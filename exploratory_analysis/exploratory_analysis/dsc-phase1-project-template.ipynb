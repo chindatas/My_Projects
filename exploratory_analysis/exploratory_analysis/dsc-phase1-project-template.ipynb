{
 "cells": [
  {
   "cell_type": "markdown",
   "metadata": {},
   "source": [
    "![example](images/director_shot.jpeg)"
   ]
  },
  {
   "cell_type": "markdown",
   "metadata": {},
   "source": [
    "# Microsoft Studio Analysis\n",
    "\n",
    "**Authors:** Ricardo Chin\n",
    "***\n"
   ]
  },
  {
   "cell_type": "markdown",
   "metadata": {},
   "source": [
    "## Overview\n",
    "\n",
    "This project uses exploratory data analysis to generate insight into the movie industry for Microsoft stakeholders to consider."
   ]
  },
  {
   "cell_type": "markdown",
   "metadata": {},
   "source": [
    "## Business Problem\n",
    "\n",
    "Microsoft has decided to take part in the movie industry. A movie studio has been created and insight into the endeavor can greatly increase the probability of success.  Through exploration of top performing films and studios, recommendations will be created to decide on."
   ]
  },
  {
   "cell_type": "markdown",
   "metadata": {},
   "source": [
    "## Data Understanding\n",
    "![imdb](./images/imdb.jpg)\n",
    "\n",
    "[IMDB](https://www.imdb.com/) and its affiliate [Box office mojo](https://www.boxofficemojo.com/) are top leaders in online box office reporting and analysis services that track box office receipts.  We will be looking at data from a compressed file format and gathering info from a database.  The data sets contain information on movie titles, studios, domestic gross sales, movie runtimes, and other film attributes. \n",
    "\n"
   ]
  },
  {
   "cell_type": "code",
   "execution_count": 2,
   "metadata": {},
   "outputs": [],
   "source": [
    "# Import standard packages\n",
    "import pandas as pd\n",
    "import numpy as np\n",
    "import matplotlib.pyplot as plt\n",
    "import seaborn as sns\n",
    "import sqlite3\n",
    "from pandasql import sqldf\n",
    "from zipfile import ZipFile\n",
    "\n",
    "%matplotlib inline\n",
    "pysql = lambda q: sqldf(q, globals())"
   ]
  },
  {
   "cell_type": "markdown",
   "metadata": {},
   "source": [
    "## Data Preparation\n",
    "\n",
    "We will be looking at a csv dataset from [Box office mojo](https://www.boxofficemojo.com/) and a sql database downloaded from [Kaggle](https://www.kaggle.com) that includes resources from IMDB."
   ]
  },
  {
   "cell_type": "markdown",
   "metadata": {},
   "source": [
    "### Box office data\n",
    "\n",
    "The Box office dataset includes movie records from the year 2010 through 2018. These records contain details of movie titles, studio, domestic gross, foreign gross, and year of release. "
   ]
  },
  {
   "cell_type": "code",
   "execution_count": 3,
   "metadata": {},
   "outputs": [
    {
     "name": "stdout",
     "output_type": "stream",
     "text": [
      "<class 'pandas.core.frame.DataFrame'>\n",
      "RangeIndex: 3387 entries, 0 to 3386\n",
      "Data columns (total 5 columns):\n",
      " #   Column          Non-Null Count  Dtype  \n",
      "---  ------          --------------  -----  \n",
      " 0   title           3387 non-null   object \n",
      " 1   studio          3382 non-null   object \n",
      " 2   domestic_gross  3359 non-null   float64\n",
      " 3   foreign_gross   2037 non-null   object \n",
      " 4   year            3387 non-null   int64  \n",
      "dtypes: float64(1), int64(1), object(3)\n",
      "memory usage: 132.4+ KB\n"
     ]
    }
   ],
   "source": [
    "# intaking box office mojo data\n",
    "box_office = pd.read_csv('zippedData/bom.movie_gross.csv.gz')\n",
    "box_office.info()"
   ]
  },
  {
   "cell_type": "code",
   "execution_count": 4,
   "metadata": {},
   "outputs": [
    {
     "data": {
      "text/plain": [
       "count          3387\n",
       "unique         3386\n",
       "top       Bluebeard\n",
       "freq              2\n",
       "Name: title, dtype: object"
      ]
     },
     "execution_count": 4,
     "metadata": {},
     "output_type": "execute_result"
    }
   ],
   "source": [
    "box_office['title'].describe()"
   ]
  },
  {
   "cell_type": "code",
   "execution_count": 5,
   "metadata": {},
   "outputs": [
    {
     "data": {
      "text/html": [
       "<div>\n",
       "<style scoped>\n",
       "    .dataframe tbody tr th:only-of-type {\n",
       "        vertical-align: middle;\n",
       "    }\n",
       "\n",
       "    .dataframe tbody tr th {\n",
       "        vertical-align: top;\n",
       "    }\n",
       "\n",
       "    .dataframe thead th {\n",
       "        text-align: right;\n",
       "    }\n",
       "</style>\n",
       "<table border=\"1\" class=\"dataframe\">\n",
       "  <thead>\n",
       "    <tr style=\"text-align: right;\">\n",
       "      <th></th>\n",
       "      <th>title</th>\n",
       "      <th>studio</th>\n",
       "      <th>domestic_gross</th>\n",
       "      <th>foreign_gross</th>\n",
       "      <th>year</th>\n",
       "    </tr>\n",
       "  </thead>\n",
       "  <tbody>\n",
       "    <tr>\n",
       "      <th>317</th>\n",
       "      <td>Bluebeard</td>\n",
       "      <td>Strand</td>\n",
       "      <td>33500.0</td>\n",
       "      <td>5200</td>\n",
       "      <td>2010</td>\n",
       "    </tr>\n",
       "    <tr>\n",
       "      <th>3045</th>\n",
       "      <td>Bluebeard</td>\n",
       "      <td>WGUSA</td>\n",
       "      <td>43100.0</td>\n",
       "      <td>NaN</td>\n",
       "      <td>2017</td>\n",
       "    </tr>\n",
       "  </tbody>\n",
       "</table>\n",
       "</div>"
      ],
      "text/plain": [
       "          title  studio  domestic_gross foreign_gross  year\n",
       "317   Bluebeard  Strand         33500.0          5200  2010\n",
       "3045  Bluebeard   WGUSA         43100.0           NaN  2017"
      ]
     },
     "execution_count": 5,
     "metadata": {},
     "output_type": "execute_result"
    }
   ],
   "source": [
    "# finding duplicate rows\n",
    "df_duplicate = box_office[box_office['title'] == 'Bluebeard']\n",
    "df_duplicate"
   ]
  },
  {
   "cell_type": "code",
   "execution_count": 6,
   "metadata": {},
   "outputs": [
    {
     "data": {
      "text/plain": [
       "count     3382\n",
       "unique     257\n",
       "top        IFC\n",
       "freq       166\n",
       "Name: studio, dtype: object"
      ]
     },
     "execution_count": 6,
     "metadata": {},
     "output_type": "execute_result"
    }
   ],
   "source": [
    "# investigating studio column\n",
    "box_office['studio'].describe()"
   ]
  },
  {
   "cell_type": "markdown",
   "metadata": {},
   "source": [
    "#### There are 257 unique abbreviations. Due to the large number of abbreviations, holding off on converting the abbrevistions until the relevant data is cleaned will minimize the amount of studio names to replace."
   ]
  },
  {
   "cell_type": "code",
   "execution_count": 7,
   "metadata": {},
   "outputs": [
    {
     "name": "stdout",
     "output_type": "stream",
     "text": [
      "float64\n",
      "(3387,)\n"
     ]
    }
   ],
   "source": [
    "# checking our domestic gross values\n",
    "print(box_office['domestic_gross'].dtype)\n",
    "print(box_office['domestic_gross'].shape)"
   ]
  },
  {
   "cell_type": "markdown",
   "metadata": {},
   "source": [
    "### IMDB database exploration\n",
    "\n"
   ]
  },
  {
   "cell_type": "code",
   "execution_count": 8,
   "metadata": {},
   "outputs": [
    {
     "data": {
      "text/plain": [
       "[('movies',), ('sqlite_sequence',), ('directors',)]"
      ]
     },
     "execution_count": 8,
     "metadata": {},
     "output_type": "execute_result"
    }
   ],
   "source": [
    "# Connecting to database\n",
    "conn = sqlite3.connect('zippedData/movies.sqlite')\n",
    "# building sql cursor\n",
    "cur = conn.cursor()\n",
    "# Checking for existing tables\n",
    "table_names = cur.execute(\"\"\"SELECT name FROM sqlite_master WHERE type = 'table';\"\"\").fetchall()\n",
    "table_names"
   ]
  },
  {
   "cell_type": "code",
   "execution_count": 9,
   "metadata": {},
   "outputs": [
    {
     "name": "stdout",
     "output_type": "stream",
     "text": [
      "<class 'pandas.core.frame.DataFrame'>\n",
      "RangeIndex: 4773 entries, 0 to 4772\n",
      "Data columns (total 13 columns):\n",
      " #   Column          Non-Null Count  Dtype  \n",
      "---  ------          --------------  -----  \n",
      " 0   id              4773 non-null   int64  \n",
      " 1   original_title  4773 non-null   object \n",
      " 2   budget          4773 non-null   int64  \n",
      " 3   popularity      4773 non-null   int64  \n",
      " 4   release_date    4773 non-null   object \n",
      " 5   revenue         4773 non-null   int64  \n",
      " 6   title           4773 non-null   object \n",
      " 7   vote_average    4773 non-null   float64\n",
      " 8   vote_count      4773 non-null   int64  \n",
      " 9   overview        4770 non-null   object \n",
      " 10  tagline         3951 non-null   object \n",
      " 11  uid             4773 non-null   int64  \n",
      " 12  director_id     4773 non-null   int64  \n",
      "dtypes: float64(1), int64(7), object(5)\n",
      "memory usage: 484.9+ KB\n",
      "<class 'pandas.core.frame.DataFrame'>\n",
      "RangeIndex: 2349 entries, 0 to 2348\n",
      "Data columns (total 5 columns):\n",
      " #   Column      Non-Null Count  Dtype \n",
      "---  ------      --------------  ----- \n",
      " 0   name        2349 non-null   object\n",
      " 1   id          2349 non-null   int64 \n",
      " 2   gender      2349 non-null   int64 \n",
      " 3   uid         2349 non-null   int64 \n",
      " 4   department  2349 non-null   object\n",
      "dtypes: int64(3), object(2)\n",
      "memory usage: 91.9+ KB\n"
     ]
    }
   ],
   "source": [
    "q = \"\"\"\n",
    "SELECT * \n",
    "FROM movies\n",
    "\"\"\"\n",
    "data = cur.execute(q).fetchall()\n",
    "columns = [x[0] for x in cur.description]\n",
    "movies_df = pd.DataFrame(data=data, columns=columns)\n",
    "movies_df.info()\n",
    "\n",
    "q = \"\"\"\n",
    "SELECT * \n",
    "FROM directors\n",
    "\"\"\"\n",
    "data = cur.execute(q).fetchall()\n",
    "columns = [x[0] for x in cur.description]\n",
    "directors_df = pd.DataFrame(data=data, columns=columns)\n",
    "directors_df.info()"
   ]
  },
  {
   "cell_type": "code",
   "execution_count": 10,
   "metadata": {},
   "outputs": [
    {
     "name": "stdout",
     "output_type": "stream",
     "text": [
      "<class 'pandas.core.frame.DataFrame'>\n",
      "RangeIndex: 4773 entries, 0 to 4772\n",
      "Data columns (total 9 columns):\n",
      " #   Column          Non-Null Count  Dtype  \n",
      "---  ------          --------------  -----  \n",
      " 0   revenue         4773 non-null   int64  \n",
      " 1   original_title  4773 non-null   object \n",
      " 2   budget          4773 non-null   int64  \n",
      " 3   popularity      4773 non-null   int64  \n",
      " 4   release_date    4773 non-null   object \n",
      " 5   vote_average    4773 non-null   float64\n",
      " 6   vote_count      4773 non-null   int64  \n",
      " 7   name            4773 non-null   object \n",
      " 8   gender          4773 non-null   int64  \n",
      "dtypes: float64(1), int64(5), object(3)\n",
      "memory usage: 335.7+ KB\n"
     ]
    }
   ],
   "source": [
    "q = \"\"\"\n",
    "WITH directors_names AS (\n",
    "SELECT name, id, gender\n",
    "FROM directors_df)\n",
    "\n",
    "SELECT movies_df.revenue, movies_df.original_title, movies_df.budget, movies_df.popularity, movies_df.release_date, movies_df.vote_average,\n",
    "movies_df.vote_count, directors_names.name, directors_names.gender\n",
    "FROM movies_df\n",
    "LEFT JOIN directors_names\n",
    "ON movies_df.director_id = directors_names.id;\n",
    "\"\"\"\n",
    "df = pysql(q)\n",
    "df.info()"
   ]
  },
  {
   "cell_type": "code",
   "execution_count": 11,
   "metadata": {},
   "outputs": [],
   "source": [
    "sorted = df.sort_values(by='revenue', ascending=False)"
   ]
  },
  {
   "cell_type": "code",
   "execution_count": 12,
   "metadata": {},
   "outputs": [
    {
     "data": {
      "text/plain": [
       "1014"
      ]
     },
     "execution_count": 12,
     "metadata": {},
     "output_type": "execute_result"
    }
   ],
   "source": [
    "sorted.budget.value_counts()[0]"
   ]
  },
  {
   "cell_type": "code",
   "execution_count": 13,
   "metadata": {},
   "outputs": [
    {
     "name": "stdout",
     "output_type": "stream",
     "text": [
      "<class 'pandas.core.frame.DataFrame'>\n",
      "Int64Index: 3759 entries, 0 to 3186\n",
      "Data columns (total 10 columns):\n",
      " #   Column          Non-Null Count  Dtype  \n",
      "---  ------          --------------  -----  \n",
      " 0   revenue         3759 non-null   int64  \n",
      " 1   original_title  3759 non-null   object \n",
      " 2   budget          3759 non-null   int64  \n",
      " 3   popularity      3759 non-null   int64  \n",
      " 4   release_date    3759 non-null   object \n",
      " 5   vote_average    3759 non-null   float64\n",
      " 6   vote_count      3759 non-null   int64  \n",
      " 7   name            3759 non-null   object \n",
      " 8   budget_by_mill  3759 non-null   float64\n",
      " 9   rev_by_bill     3759 non-null   float64\n",
      "dtypes: float64(3), int64(4), object(3)\n",
      "memory usage: 323.0+ KB\n"
     ]
    }
   ],
   "source": [
    "sorted['budget_by_mill'] = sorted['budget'].div(1000000)\n",
    "sorted['rev_by_bill'] = sorted['revenue'].div(1000000000)\n",
    "index_drop = sorted[sorted['budget'] == 0].index\n",
    "sorted.drop(index_drop, inplace=True)\n",
    "sorted.info()\n",
    "#### Graph"
   ]
  },
  {
   "cell_type": "code",
   "execution_count": null,
   "metadata": {},
   "outputs": [],
   "source": []
  },
  {
   "cell_type": "code",
   "execution_count": 14,
   "metadata": {},
   "outputs": [
    {
     "data": {
      "text/plain": [
       "count    4.773000e+03\n",
       "mean     8.277710e+07\n",
       "std      1.632374e+08\n",
       "min      0.000000e+00\n",
       "25%      0.000000e+00\n",
       "50%      1.947811e+07\n",
       "75%      9.361701e+07\n",
       "max      2.787965e+09\n",
       "Name: revenue, dtype: float64"
      ]
     },
     "execution_count": 14,
     "metadata": {},
     "output_type": "execute_result"
    }
   ],
   "source": [
    "df['revenue'].describe()"
   ]
  },
  {
   "cell_type": "code",
   "execution_count": 15,
   "metadata": {},
   "outputs": [
    {
     "data": {
      "text/plain": [
       "<AxesSubplot:xlabel='budget', ylabel='revenue'>"
      ]
     },
     "execution_count": 15,
     "metadata": {},
     "output_type": "execute_result"
    },
    {
     "data": {
      "image/png": "[encoded data removed]",
      "text/plain": [
       "<Figure size 1080x1080 with 4 Axes>"
      ]
     },
     "metadata": {
      "needs_background": "light"
     },
     "output_type": "display_data"
    }
   ],
   "source": [
    "fig, ((ax1, ax2), (ax3, ax4)) = plt.subplots(figsize=(15,15), nrows=2, ncols=2)\n",
    "ax1.set_xlim(left=1, right=300)\n",
    "sns.histplot(x=(df['budget']/1000000), ax=ax1)\n",
    "ax2.set_xlim(left=0, right=2.8)\n",
    "sns.histplot(x=(df['revenue']/1000000000), ax=ax2)\n",
    "ax3.set_xlim(0, 1000)\n",
    "df['earnings'] = (df['revenue']-df['budget'])/1000000\n",
    "sns.histplot(x=df['earnings'], ax=ax3)\n",
    "\n",
    "m, b = np.polyfit(df['budget'], df['revenue'], 1)\n",
    "ax4 = plt.plot(df['budget'], m*df['budget'] + b)\n",
    "sns.scatterplot(x='budget', y='revenue', hue='earnings', data=df)\n"
   ]
  },
  {
   "cell_type": "markdown",
   "metadata": {},
   "source": [
    "distplot budget, revenue, and earnings \n",
    "scatterplot(budget to revenue)"
   ]
  },
  {
   "cell_type": "code",
   "execution_count": 16,
   "metadata": {},
   "outputs": [
    {
     "name": "stdout",
     "output_type": "stream",
     "text": [
      "count         4773.000000\n",
      "mean      29224612.721559\n",
      "std       40786792.163336\n",
      "min              0.000000\n",
      "25%         950000.000000\n",
      "50%       15000000.000000\n",
      "75%       40000000.000000\n",
      "max      380000000.000000\n",
      "Name: budget, dtype: object count          4773.000000\n",
      "mean       82777095.058454\n",
      "std       163237435.727842\n",
      "min               0.000000\n",
      "25%               0.000000\n",
      "50%        19478106.000000\n",
      "75%        93617009.000000\n",
      "max      2787965087.000000\n",
      "Name: revenue, dtype: object count    4773.000000\n",
      "mean       53.552482\n",
      "std       136.327752\n",
      "min      -165.710090\n",
      "25%        -0.899095\n",
      "50%         2.780255\n",
      "75%        55.737889\n",
      "max      2550.965087\n",
      "Name: earnings, dtype: object\n"
     ]
    }
   ],
   "source": [
    "ds_budget = df.budget.describe().apply(lambda x: format(x, 'f'))\n",
    "ds_revenue = df.revenue.describe().apply(lambda x: format(x, 'f'))\n",
    "ds_earnings = df.earnings.describe().apply(lambda x: format(x, 'f'))\n",
    "\n",
    "print(ds_budget, ds_revenue, ds_earnings)"
   ]
  },
  {
   "cell_type": "code",
   "execution_count": 17,
   "metadata": {},
   "outputs": [
    {
     "data": {
      "text/plain": [
       "(0.0, 60.0)"
      ]
     },
     "execution_count": 17,
     "metadata": {},
     "output_type": "execute_result"
    },
    {
     "data": {
      "image/png": "[encoded data removed]",
      "text/plain": [
       "<Figure size 432x288 with 3 Axes>"
      ]
     },
     "metadata": {
      "needs_background": "light"
     },
     "output_type": "display_data"
    }
   ],
   "source": [
    "fig, (ax1, ax2, ax3) = plt.subplots(nrows=1, ncols=3)\n",
    "\n",
    "std_budget = df.budget.std()\n",
    "sns.histplot(x=(df['budget']), ax=ax1)\n",
    "ax1.set_xlim(left=std_budget)\n",
    "\n",
    "sns.histplot(x=(df['revenue']), ax=ax2)\n",
    "ax2.set_xlim(left=90000000)\n",
    "ax2.set_ylim(top=100)\n",
    "\n",
    "sns.histplot(x=(df['earnings']), ax=ax3)\n",
    "ax3.set_xlim(left=55)\n",
    "ax3.set_ylim(top=60)"
   ]
  },
  {
   "cell_type": "code",
   "execution_count": 18,
   "metadata": {},
   "outputs": [
    {
     "name": "stdout",
     "output_type": "stream",
     "text": [
      "<class 'pandas.core.frame.DataFrame'>\n",
      "Int64Index: 3759 entries, 0 to 4769\n",
      "Data columns (total 9 columns):\n",
      " #   Column          Non-Null Count  Dtype  \n",
      "---  ------          --------------  -----  \n",
      " 0   revenue         3759 non-null   int64  \n",
      " 1   original_title  3759 non-null   object \n",
      " 2   budget          3759 non-null   int64  \n",
      " 3   popularity      3759 non-null   int64  \n",
      " 4   release_date    3759 non-null   object \n",
      " 5   vote_average    3759 non-null   float64\n",
      " 6   vote_count      3759 non-null   int64  \n",
      " 7   name            3759 non-null   object \n",
      " 8   earnings        3759 non-null   float64\n",
      "dtypes: float64(2), int64(4), object(3)\n",
      "memory usage: 293.7+ KB\n"
     ]
    }
   ],
   "source": [
    "index_to_drop = df[df['budget'] == 0].index\n",
    "dropped_df = df.drop(index_to_drop)\n",
    "dropped_df.info()\n",
    "dropped_df['efficiency'] = dropped_df['revenue']/dropped_df['budget']"
   ]
  },
  {
   "cell_type": "code",
   "execution_count": 19,
   "metadata": {},
   "outputs": [
    {
     "data": {
      "text/html": [
       "<div>\n",
       "<style scoped>\n",
       "    .dataframe tbody tr th:only-of-type {\n",
       "        vertical-align: middle;\n",
       "    }\n",
       "\n",
       "    .dataframe tbody tr th {\n",
       "        vertical-align: top;\n",
       "    }\n",
       "\n",
       "    .dataframe thead th {\n",
       "        text-align: right;\n",
       "    }\n",
       "</style>\n",
       "<table border=\"1\" class=\"dataframe\">\n",
       "  <thead>\n",
       "    <tr style=\"text-align: right;\">\n",
       "      <th></th>\n",
       "      <th>revenue</th>\n",
       "      <th>original_title</th>\n",
       "      <th>budget</th>\n",
       "      <th>popularity</th>\n",
       "      <th>release_date</th>\n",
       "      <th>vote_average</th>\n",
       "      <th>vote_count</th>\n",
       "      <th>name</th>\n",
       "      <th>earnings</th>\n",
       "      <th>efficiency</th>\n",
       "    </tr>\n",
       "  </thead>\n",
       "  <tbody>\n",
       "    <tr>\n",
       "      <th>0</th>\n",
       "      <td>2787965087</td>\n",
       "      <td>Avatar</td>\n",
       "      <td>237000000</td>\n",
       "      <td>150</td>\n",
       "      <td>2009-12-10</td>\n",
       "      <td>7.2</td>\n",
       "      <td>11800</td>\n",
       "      <td>James Cameron</td>\n",
       "      <td>2550.965087</td>\n",
       "      <td>11.763566</td>\n",
       "    </tr>\n",
       "    <tr>\n",
       "      <th>25</th>\n",
       "      <td>1845034188</td>\n",
       "      <td>Titanic</td>\n",
       "      <td>200000000</td>\n",
       "      <td>100</td>\n",
       "      <td>1997-11-18</td>\n",
       "      <td>7.5</td>\n",
       "      <td>7562</td>\n",
       "      <td>James Cameron</td>\n",
       "      <td>1645.034188</td>\n",
       "      <td>9.225171</td>\n",
       "    </tr>\n",
       "    <tr>\n",
       "      <th>16</th>\n",
       "      <td>1519557910</td>\n",
       "      <td>The Avengers</td>\n",
       "      <td>220000000</td>\n",
       "      <td>144</td>\n",
       "      <td>2012-04-25</td>\n",
       "      <td>7.4</td>\n",
       "      <td>11776</td>\n",
       "      <td>Joss Whedon</td>\n",
       "      <td>1299.557910</td>\n",
       "      <td>6.907081</td>\n",
       "    </tr>\n",
       "    <tr>\n",
       "      <th>28</th>\n",
       "      <td>1513528810</td>\n",
       "      <td>Jurassic World</td>\n",
       "      <td>150000000</td>\n",
       "      <td>418</td>\n",
       "      <td>2015-06-09</td>\n",
       "      <td>6.5</td>\n",
       "      <td>8662</td>\n",
       "      <td>Colin Trevorrow</td>\n",
       "      <td>1363.528810</td>\n",
       "      <td>10.090192</td>\n",
       "    </tr>\n",
       "    <tr>\n",
       "      <th>44</th>\n",
       "      <td>1506249360</td>\n",
       "      <td>Furious 7</td>\n",
       "      <td>190000000</td>\n",
       "      <td>102</td>\n",
       "      <td>2015-04-01</td>\n",
       "      <td>7.3</td>\n",
       "      <td>4176</td>\n",
       "      <td>James Wan</td>\n",
       "      <td>1316.249360</td>\n",
       "      <td>7.927628</td>\n",
       "    </tr>\n",
       "    <tr>\n",
       "      <th>7</th>\n",
       "      <td>1405403694</td>\n",
       "      <td>Avengers: Age of Ultron</td>\n",
       "      <td>280000000</td>\n",
       "      <td>134</td>\n",
       "      <td>2015-04-22</td>\n",
       "      <td>7.3</td>\n",
       "      <td>6767</td>\n",
       "      <td>Joss Whedon</td>\n",
       "      <td>1125.403694</td>\n",
       "      <td>5.019299</td>\n",
       "    </tr>\n",
       "    <tr>\n",
       "      <th>124</th>\n",
       "      <td>1274219009</td>\n",
       "      <td>Frozen</td>\n",
       "      <td>150000000</td>\n",
       "      <td>165</td>\n",
       "      <td>2013-11-27</td>\n",
       "      <td>7.3</td>\n",
       "      <td>5295</td>\n",
       "      <td>Chris Buck</td>\n",
       "      <td>1124.219009</td>\n",
       "      <td>8.494793</td>\n",
       "    </tr>\n",
       "    <tr>\n",
       "      <th>31</th>\n",
       "      <td>1215439994</td>\n",
       "      <td>Iron Man 3</td>\n",
       "      <td>200000000</td>\n",
       "      <td>77</td>\n",
       "      <td>2013-04-18</td>\n",
       "      <td>6.8</td>\n",
       "      <td>8806</td>\n",
       "      <td>Shane Black</td>\n",
       "      <td>1015.439994</td>\n",
       "      <td>6.077200</td>\n",
       "    </tr>\n",
       "    <tr>\n",
       "      <th>546</th>\n",
       "      <td>1156730962</td>\n",
       "      <td>Minions</td>\n",
       "      <td>74000000</td>\n",
       "      <td>875</td>\n",
       "      <td>2015-06-17</td>\n",
       "      <td>6.4</td>\n",
       "      <td>4571</td>\n",
       "      <td>Kyle Balda</td>\n",
       "      <td>1082.730962</td>\n",
       "      <td>15.631499</td>\n",
       "    </tr>\n",
       "    <tr>\n",
       "      <th>26</th>\n",
       "      <td>1153304495</td>\n",
       "      <td>Captain America: Civil War</td>\n",
       "      <td>250000000</td>\n",
       "      <td>198</td>\n",
       "      <td>2016-04-27</td>\n",
       "      <td>7.1</td>\n",
       "      <td>7241</td>\n",
       "      <td>Anthony Russo</td>\n",
       "      <td>903.304495</td>\n",
       "      <td>4.613218</td>\n",
       "    </tr>\n",
       "  </tbody>\n",
       "</table>\n",
       "</div>"
      ],
      "text/plain": [
       "        revenue              original_title     budget  popularity  \\\n",
       "0    2787965087                      Avatar  237000000         150   \n",
       "25   1845034188                     Titanic  200000000         100   \n",
       "16   1519557910                The Avengers  220000000         144   \n",
       "28   1513528810              Jurassic World  150000000         418   \n",
       "44   1506249360                   Furious 7  190000000         102   \n",
       "7    1405403694     Avengers: Age of Ultron  280000000         134   \n",
       "124  1274219009                      Frozen  150000000         165   \n",
       "31   1215439994                  Iron Man 3  200000000          77   \n",
       "546  1156730962                     Minions   74000000         875   \n",
       "26   1153304495  Captain America: Civil War  250000000         198   \n",
       "\n",
       "    release_date  vote_average  vote_count             name     earnings  \\\n",
       "0     2009-12-10           7.2       11800    James Cameron  2550.965087   \n",
       "25    1997-11-18           7.5        7562    James Cameron  1645.034188   \n",
       "16    2012-04-25           7.4       11776      Joss Whedon  1299.557910   \n",
       "28    2015-06-09           6.5        8662  Colin Trevorrow  1363.528810   \n",
       "44    2015-04-01           7.3        4176        James Wan  1316.249360   \n",
       "7     2015-04-22           7.3        6767      Joss Whedon  1125.403694   \n",
       "124   2013-11-27           7.3        5295       Chris Buck  1124.219009   \n",
       "31    2013-04-18           6.8        8806      Shane Black  1015.439994   \n",
       "546   2015-06-17           6.4        4571       Kyle Balda  1082.730962   \n",
       "26    2016-04-27           7.1        7241    Anthony Russo   903.304495   \n",
       "\n",
       "     efficiency  \n",
       "0     11.763566  \n",
       "25     9.225171  \n",
       "16     6.907081  \n",
       "28    10.090192  \n",
       "44     7.927628  \n",
       "7      5.019299  \n",
       "124    8.494793  \n",
       "31     6.077200  \n",
       "546   15.631499  \n",
       "26     4.613218  "
      ]
     },
     "execution_count": 19,
     "metadata": {},
     "output_type": "execute_result"
    }
   ],
   "source": [
    "dropped_df.sort_values(by='revenue', ascending=False).head(10)"
   ]
  },
  {
   "cell_type": "code",
   "execution_count": 20,
   "metadata": {},
   "outputs": [
    {
     "data": {
      "text/plain": [
       "count       3759.000000\n",
       "mean        2538.207119\n",
       "std       139589.983943\n",
       "min            0.000000\n",
       "25%            0.493978\n",
       "50%            1.872862\n",
       "75%            3.948891\n",
       "max      8500000.000000\n",
       "Name: efficiency, dtype: object"
      ]
     },
     "execution_count": 20,
     "metadata": {},
     "output_type": "execute_result"
    }
   ],
   "source": [
    "dropped_df.efficiency.describe().apply(lambda x: format(x, 'f'))"
   ]
  },
  {
   "cell_type": "code",
   "execution_count": 21,
   "metadata": {},
   "outputs": [
    {
     "data": {
      "text/plain": [
       "<AxesSubplot:xlabel='budget', ylabel='efficiency'>"
      ]
     },
     "execution_count": 21,
     "metadata": {},
     "output_type": "execute_result"
    },
    {
     "data": {
      "image/png": "[encoded data removed]",
      "text/plain": [
       "<Figure size 432x288 with 1 Axes>"
      ]
     },
     "metadata": {
      "needs_background": "light"
     },
     "output_type": "display_data"
    }
   ],
   "source": [
    "cleaned_efficiency = dropped_df[(dropped_df['efficiency'] < 100) & (dropped_df['efficiency'] > 2) & (dropped_df['budget'] > 65000000)]\n",
    "sns.scatterplot(x='budget', y='efficiency', data=cleaned_efficiency)"
   ]
  },
  {
   "cell_type": "code",
   "execution_count": 22,
   "metadata": {},
   "outputs": [
    {
     "data": {
      "text/html": [
       "<div>\n",
       "<style scoped>\n",
       "    .dataframe tbody tr th:only-of-type {\n",
       "        vertical-align: middle;\n",
       "    }\n",
       "\n",
       "    .dataframe tbody tr th {\n",
       "        vertical-align: top;\n",
       "    }\n",
       "\n",
       "    .dataframe thead th {\n",
       "        text-align: right;\n",
       "    }\n",
       "</style>\n",
       "<table border=\"1\" class=\"dataframe\">\n",
       "  <thead>\n",
       "    <tr style=\"text-align: right;\">\n",
       "      <th></th>\n",
       "      <th>revenue</th>\n",
       "      <th>budget</th>\n",
       "      <th>popularity</th>\n",
       "      <th>vote_average</th>\n",
       "      <th>vote_count</th>\n",
       "      <th>earnings</th>\n",
       "      <th>efficiency</th>\n",
       "    </tr>\n",
       "  </thead>\n",
       "  <tbody>\n",
       "    <tr>\n",
       "      <th>count</th>\n",
       "      <td>3.730000e+02</td>\n",
       "      <td>3.730000e+02</td>\n",
       "      <td>373.000000</td>\n",
       "      <td>373.000000</td>\n",
       "      <td>373.000000</td>\n",
       "      <td>373.000000</td>\n",
       "      <td>373.000000</td>\n",
       "    </tr>\n",
       "    <tr>\n",
       "      <th>mean</th>\n",
       "      <td>4.761751e+08</td>\n",
       "      <td>1.217533e+08</td>\n",
       "      <td>69.919571</td>\n",
       "      <td>6.483914</td>\n",
       "      <td>3054.249330</td>\n",
       "      <td>354.421776</td>\n",
       "      <td>3.927086</td>\n",
       "    </tr>\n",
       "    <tr>\n",
       "      <th>std</th>\n",
       "      <td>3.048873e+08</td>\n",
       "      <td>4.974214e+07</td>\n",
       "      <td>75.303393</td>\n",
       "      <td>0.707949</td>\n",
       "      <td>2357.092587</td>\n",
       "      <td>276.397225</td>\n",
       "      <td>2.003245</td>\n",
       "    </tr>\n",
       "    <tr>\n",
       "      <th>min</th>\n",
       "      <td>1.514937e+08</td>\n",
       "      <td>6.600000e+07</td>\n",
       "      <td>1.000000</td>\n",
       "      <td>4.700000</td>\n",
       "      <td>24.000000</td>\n",
       "      <td>77.930623</td>\n",
       "      <td>2.002247</td>\n",
       "    </tr>\n",
       "    <tr>\n",
       "      <th>25%</th>\n",
       "      <td>2.591758e+08</td>\n",
       "      <td>8.000000e+07</td>\n",
       "      <td>36.000000</td>\n",
       "      <td>6.000000</td>\n",
       "      <td>1288.000000</td>\n",
       "      <td>160.649836</td>\n",
       "      <td>2.652333</td>\n",
       "    </tr>\n",
       "    <tr>\n",
       "      <th>50%</th>\n",
       "      <td>3.735521e+08</td>\n",
       "      <td>1.100000e+08</td>\n",
       "      <td>54.000000</td>\n",
       "      <td>6.400000</td>\n",
       "      <td>2389.000000</td>\n",
       "      <td>256.372926</td>\n",
       "      <td>3.294630</td>\n",
       "    </tr>\n",
       "    <tr>\n",
       "      <th>75%</th>\n",
       "      <td>6.237228e+08</td>\n",
       "      <td>1.500000e+08</td>\n",
       "      <td>82.000000</td>\n",
       "      <td>7.000000</td>\n",
       "      <td>4321.000000</td>\n",
       "      <td>473.722818</td>\n",
       "      <td>4.502440</td>\n",
       "    </tr>\n",
       "    <tr>\n",
       "      <th>max</th>\n",
       "      <td>2.787965e+09</td>\n",
       "      <td>3.800000e+08</td>\n",
       "      <td>875.000000</td>\n",
       "      <td>8.200000</td>\n",
       "      <td>13752.000000</td>\n",
       "      <td>2550.965087</td>\n",
       "      <td>15.631499</td>\n",
       "    </tr>\n",
       "  </tbody>\n",
       "</table>\n",
       "</div>"
      ],
      "text/plain": [
       "            revenue        budget  popularity  vote_average    vote_count  \\\n",
       "count  3.730000e+02  3.730000e+02  373.000000    373.000000    373.000000   \n",
       "mean   4.761751e+08  1.217533e+08   69.919571      6.483914   3054.249330   \n",
       "std    3.048873e+08  4.974214e+07   75.303393      0.707949   2357.092587   \n",
       "min    1.514937e+08  6.600000e+07    1.000000      4.700000     24.000000   \n",
       "25%    2.591758e+08  8.000000e+07   36.000000      6.000000   1288.000000   \n",
       "50%    3.735521e+08  1.100000e+08   54.000000      6.400000   2389.000000   \n",
       "75%    6.237228e+08  1.500000e+08   82.000000      7.000000   4321.000000   \n",
       "max    2.787965e+09  3.800000e+08  875.000000      8.200000  13752.000000   \n",
       "\n",
       "          earnings  efficiency  \n",
       "count   373.000000  373.000000  \n",
       "mean    354.421776    3.927086  \n",
       "std     276.397225    2.003245  \n",
       "min      77.930623    2.002247  \n",
       "25%     160.649836    2.652333  \n",
       "50%     256.372926    3.294630  \n",
       "75%     473.722818    4.502440  \n",
       "max    2550.965087   15.631499  "
      ]
     },
     "execution_count": 22,
     "metadata": {},
     "output_type": "execute_result"
    }
   ],
   "source": [
    "cleaned_efficiency.describe()"
   ]
  },
  {
   "cell_type": "markdown",
   "metadata": {},
   "source": [
    "Next analyze popularity and vote statistics"
   ]
  },
  {
   "cell_type": "markdown",
   "metadata": {},
   "source": [
    "group by revenue then producers and count"
   ]
  },
  {
   "cell_type": "code",
   "execution_count": 23,
   "metadata": {},
   "outputs": [
    {
     "data": {
      "text/plain": [
       "name\n",
       "Peter Jackson        6402068099\n",
       "James Cameron        5531881686\n",
       "Michael Bay          5372581789\n",
       "Christopher Nolan    3964368997\n",
       "Steven Spielberg     3533970096\n",
       "Sam Raimi            2988215066\n",
       "Joss Whedon          2924961604\n",
       "Francis Lawrence     2838300952\n",
       "Gore Verbinski       2681671036\n",
       "Carlos Saldanha      2532451792\n",
       "Name: revenue, dtype: int64"
      ]
     },
     "execution_count": 23,
     "metadata": {},
     "output_type": "execute_result"
    }
   ],
   "source": [
    "cl_sorted = cleaned_efficiency.sort_values(by='revenue', ascending=False)\n",
    "top_producers = cl_sorted.groupby(['name'])['revenue'].sum().sort_values(ascending=False).head(10)\n",
    "top_producers\n"
   ]
  },
  {
   "cell_type": "code",
   "execution_count": 24,
   "metadata": {},
   "outputs": [
    {
     "data": {
      "text/html": [
       "<div>\n",
       "<style scoped>\n",
       "    .dataframe tbody tr th:only-of-type {\n",
       "        vertical-align: middle;\n",
       "    }\n",
       "\n",
       "    .dataframe tbody tr th {\n",
       "        vertical-align: top;\n",
       "    }\n",
       "\n",
       "    .dataframe thead th {\n",
       "        text-align: right;\n",
       "    }\n",
       "</style>\n",
       "<table border=\"1\" class=\"dataframe\">\n",
       "  <thead>\n",
       "    <tr style=\"text-align: right;\">\n",
       "      <th></th>\n",
       "      <th>revenue</th>\n",
       "      <th>original_title</th>\n",
       "      <th>budget</th>\n",
       "      <th>popularity</th>\n",
       "      <th>release_date</th>\n",
       "      <th>vote_average</th>\n",
       "      <th>vote_count</th>\n",
       "      <th>name</th>\n",
       "      <th>earnings</th>\n",
       "      <th>efficiency</th>\n",
       "    </tr>\n",
       "  </thead>\n",
       "  <tbody>\n",
       "    <tr>\n",
       "      <th>0</th>\n",
       "      <td>2787965087</td>\n",
       "      <td>Avatar</td>\n",
       "      <td>237000000</td>\n",
       "      <td>150</td>\n",
       "      <td>2009-12-10</td>\n",
       "      <td>7.2</td>\n",
       "      <td>11800</td>\n",
       "      <td>James Cameron</td>\n",
       "      <td>2550.965087</td>\n",
       "      <td>11.763566</td>\n",
       "    </tr>\n",
       "    <tr>\n",
       "      <th>25</th>\n",
       "      <td>1845034188</td>\n",
       "      <td>Titanic</td>\n",
       "      <td>200000000</td>\n",
       "      <td>100</td>\n",
       "      <td>1997-11-18</td>\n",
       "      <td>7.5</td>\n",
       "      <td>7562</td>\n",
       "      <td>James Cameron</td>\n",
       "      <td>1645.034188</td>\n",
       "      <td>9.225171</td>\n",
       "    </tr>\n",
       "    <tr>\n",
       "      <th>16</th>\n",
       "      <td>1519557910</td>\n",
       "      <td>The Avengers</td>\n",
       "      <td>220000000</td>\n",
       "      <td>144</td>\n",
       "      <td>2012-04-25</td>\n",
       "      <td>7.4</td>\n",
       "      <td>11776</td>\n",
       "      <td>Joss Whedon</td>\n",
       "      <td>1299.557910</td>\n",
       "      <td>6.907081</td>\n",
       "    </tr>\n",
       "    <tr>\n",
       "      <th>28</th>\n",
       "      <td>1513528810</td>\n",
       "      <td>Jurassic World</td>\n",
       "      <td>150000000</td>\n",
       "      <td>418</td>\n",
       "      <td>2015-06-09</td>\n",
       "      <td>6.5</td>\n",
       "      <td>8662</td>\n",
       "      <td>Colin Trevorrow</td>\n",
       "      <td>1363.528810</td>\n",
       "      <td>10.090192</td>\n",
       "    </tr>\n",
       "    <tr>\n",
       "      <th>44</th>\n",
       "      <td>1506249360</td>\n",
       "      <td>Furious 7</td>\n",
       "      <td>190000000</td>\n",
       "      <td>102</td>\n",
       "      <td>2015-04-01</td>\n",
       "      <td>7.3</td>\n",
       "      <td>4176</td>\n",
       "      <td>James Wan</td>\n",
       "      <td>1316.249360</td>\n",
       "      <td>7.927628</td>\n",
       "    </tr>\n",
       "    <tr>\n",
       "      <th>7</th>\n",
       "      <td>1405403694</td>\n",
       "      <td>Avengers: Age of Ultron</td>\n",
       "      <td>280000000</td>\n",
       "      <td>134</td>\n",
       "      <td>2015-04-22</td>\n",
       "      <td>7.3</td>\n",
       "      <td>6767</td>\n",
       "      <td>Joss Whedon</td>\n",
       "      <td>1125.403694</td>\n",
       "      <td>5.019299</td>\n",
       "    </tr>\n",
       "    <tr>\n",
       "      <th>124</th>\n",
       "      <td>1274219009</td>\n",
       "      <td>Frozen</td>\n",
       "      <td>150000000</td>\n",
       "      <td>165</td>\n",
       "      <td>2013-11-27</td>\n",
       "      <td>7.3</td>\n",
       "      <td>5295</td>\n",
       "      <td>Chris Buck</td>\n",
       "      <td>1124.219009</td>\n",
       "      <td>8.494793</td>\n",
       "    </tr>\n",
       "    <tr>\n",
       "      <th>31</th>\n",
       "      <td>1215439994</td>\n",
       "      <td>Iron Man 3</td>\n",
       "      <td>200000000</td>\n",
       "      <td>77</td>\n",
       "      <td>2013-04-18</td>\n",
       "      <td>6.8</td>\n",
       "      <td>8806</td>\n",
       "      <td>Shane Black</td>\n",
       "      <td>1015.439994</td>\n",
       "      <td>6.077200</td>\n",
       "    </tr>\n",
       "    <tr>\n",
       "      <th>546</th>\n",
       "      <td>1156730962</td>\n",
       "      <td>Minions</td>\n",
       "      <td>74000000</td>\n",
       "      <td>875</td>\n",
       "      <td>2015-06-17</td>\n",
       "      <td>6.4</td>\n",
       "      <td>4571</td>\n",
       "      <td>Kyle Balda</td>\n",
       "      <td>1082.730962</td>\n",
       "      <td>15.631499</td>\n",
       "    </tr>\n",
       "    <tr>\n",
       "      <th>26</th>\n",
       "      <td>1153304495</td>\n",
       "      <td>Captain America: Civil War</td>\n",
       "      <td>250000000</td>\n",
       "      <td>198</td>\n",
       "      <td>2016-04-27</td>\n",
       "      <td>7.1</td>\n",
       "      <td>7241</td>\n",
       "      <td>Anthony Russo</td>\n",
       "      <td>903.304495</td>\n",
       "      <td>4.613218</td>\n",
       "    </tr>\n",
       "    <tr>\n",
       "      <th>52</th>\n",
       "      <td>1123746996</td>\n",
       "      <td>Transformers: Dark of the Moon</td>\n",
       "      <td>195000000</td>\n",
       "      <td>28</td>\n",
       "      <td>2011-06-28</td>\n",
       "      <td>6.1</td>\n",
       "      <td>3299</td>\n",
       "      <td>Michael Bay</td>\n",
       "      <td>928.746996</td>\n",
       "      <td>5.762805</td>\n",
       "    </tr>\n",
       "    <tr>\n",
       "      <th>329</th>\n",
       "      <td>1118888979</td>\n",
       "      <td>The Lord of the Rings: The Return of the King</td>\n",
       "      <td>94000000</td>\n",
       "      <td>123</td>\n",
       "      <td>2003-12-01</td>\n",
       "      <td>8.1</td>\n",
       "      <td>8064</td>\n",
       "      <td>Peter Jackson</td>\n",
       "      <td>1024.888979</td>\n",
       "      <td>11.903074</td>\n",
       "    </tr>\n",
       "    <tr>\n",
       "      <th>29</th>\n",
       "      <td>1108561013</td>\n",
       "      <td>Skyfall</td>\n",
       "      <td>200000000</td>\n",
       "      <td>93</td>\n",
       "      <td>2012-10-25</td>\n",
       "      <td>6.9</td>\n",
       "      <td>7604</td>\n",
       "      <td>Sam Mendes</td>\n",
       "      <td>908.561013</td>\n",
       "      <td>5.542805</td>\n",
       "    </tr>\n",
       "    <tr>\n",
       "      <th>36</th>\n",
       "      <td>1091405097</td>\n",
       "      <td>Transformers: Age of Extinction</td>\n",
       "      <td>210000000</td>\n",
       "      <td>116</td>\n",
       "      <td>2014-06-25</td>\n",
       "      <td>5.8</td>\n",
       "      <td>3095</td>\n",
       "      <td>Michael Bay</td>\n",
       "      <td>881.405097</td>\n",
       "      <td>5.197167</td>\n",
       "    </tr>\n",
       "    <tr>\n",
       "      <th>3</th>\n",
       "      <td>1084939099</td>\n",
       "      <td>The Dark Knight Rises</td>\n",
       "      <td>250000000</td>\n",
       "      <td>112</td>\n",
       "      <td>2012-07-16</td>\n",
       "      <td>7.6</td>\n",
       "      <td>9106</td>\n",
       "      <td>Christopher Nolan</td>\n",
       "      <td>834.939099</td>\n",
       "      <td>4.339756</td>\n",
       "    </tr>\n",
       "    <tr>\n",
       "      <th>42</th>\n",
       "      <td>1066969703</td>\n",
       "      <td>Toy Story 3</td>\n",
       "      <td>200000000</td>\n",
       "      <td>59</td>\n",
       "      <td>2010-06-16</td>\n",
       "      <td>7.6</td>\n",
       "      <td>4597</td>\n",
       "      <td>Lee Unkrich</td>\n",
       "      <td>866.969703</td>\n",
       "      <td>5.334849</td>\n",
       "    </tr>\n",
       "    <tr>\n",
       "      <th>12</th>\n",
       "      <td>1065659812</td>\n",
       "      <td>Pirates of the Caribbean: Dead Man's Chest</td>\n",
       "      <td>200000000</td>\n",
       "      <td>145</td>\n",
       "      <td>2006-06-20</td>\n",
       "      <td>7.0</td>\n",
       "      <td>5246</td>\n",
       "      <td>Gore Verbinski</td>\n",
       "      <td>865.659812</td>\n",
       "      <td>5.328299</td>\n",
       "    </tr>\n",
       "    <tr>\n",
       "      <th>17</th>\n",
       "      <td>1045713802</td>\n",
       "      <td>Pirates of the Caribbean: On Stranger Tides</td>\n",
       "      <td>380000000</td>\n",
       "      <td>135</td>\n",
       "      <td>2011-05-14</td>\n",
       "      <td>6.4</td>\n",
       "      <td>4948</td>\n",
       "      <td>Rob Marshall</td>\n",
       "      <td>665.713802</td>\n",
       "      <td>2.751878</td>\n",
       "    </tr>\n",
       "    <tr>\n",
       "      <th>32</th>\n",
       "      <td>1025491110</td>\n",
       "      <td>Alice in Wonderland</td>\n",
       "      <td>200000000</td>\n",
       "      <td>78</td>\n",
       "      <td>2010-03-03</td>\n",
       "      <td>6.4</td>\n",
       "      <td>4645</td>\n",
       "      <td>Tim Burton</td>\n",
       "      <td>825.491110</td>\n",
       "      <td>5.127456</td>\n",
       "    </tr>\n",
       "    <tr>\n",
       "      <th>98</th>\n",
       "      <td>1021103568</td>\n",
       "      <td>The Hobbit: An Unexpected Journey</td>\n",
       "      <td>250000000</td>\n",
       "      <td>108</td>\n",
       "      <td>2012-11-26</td>\n",
       "      <td>7.0</td>\n",
       "      <td>8297</td>\n",
       "      <td>Peter Jackson</td>\n",
       "      <td>771.103568</td>\n",
       "      <td>4.084414</td>\n",
       "    </tr>\n",
       "  </tbody>\n",
       "</table>\n",
       "</div>"
      ],
      "text/plain": [
       "        revenue                                 original_title     budget  \\\n",
       "0    2787965087                                         Avatar  237000000   \n",
       "25   1845034188                                        Titanic  200000000   \n",
       "16   1519557910                                   The Avengers  220000000   \n",
       "28   1513528810                                 Jurassic World  150000000   \n",
       "44   1506249360                                      Furious 7  190000000   \n",
       "7    1405403694                        Avengers: Age of Ultron  280000000   \n",
       "124  1274219009                                         Frozen  150000000   \n",
       "31   1215439994                                     Iron Man 3  200000000   \n",
       "546  1156730962                                        Minions   74000000   \n",
       "26   1153304495                     Captain America: Civil War  250000000   \n",
       "52   1123746996                 Transformers: Dark of the Moon  195000000   \n",
       "329  1118888979  The Lord of the Rings: The Return of the King   94000000   \n",
       "29   1108561013                                        Skyfall  200000000   \n",
       "36   1091405097                Transformers: Age of Extinction  210000000   \n",
       "3    1084939099                          The Dark Knight Rises  250000000   \n",
       "42   1066969703                                    Toy Story 3  200000000   \n",
       "12   1065659812     Pirates of the Caribbean: Dead Man's Chest  200000000   \n",
       "17   1045713802    Pirates of the Caribbean: On Stranger Tides  380000000   \n",
       "32   1025491110                            Alice in Wonderland  200000000   \n",
       "98   1021103568              The Hobbit: An Unexpected Journey  250000000   \n",
       "\n",
       "     popularity release_date  vote_average  vote_count               name  \\\n",
       "0           150   2009-12-10           7.2       11800      James Cameron   \n",
       "25          100   1997-11-18           7.5        7562      James Cameron   \n",
       "16          144   2012-04-25           7.4       11776        Joss Whedon   \n",
       "28          418   2015-06-09           6.5        8662    Colin Trevorrow   \n",
       "44          102   2015-04-01           7.3        4176          James Wan   \n",
       "7           134   2015-04-22           7.3        6767        Joss Whedon   \n",
       "124         165   2013-11-27           7.3        5295         Chris Buck   \n",
       "31           77   2013-04-18           6.8        8806        Shane Black   \n",
       "546         875   2015-06-17           6.4        4571         Kyle Balda   \n",
       "26          198   2016-04-27           7.1        7241      Anthony Russo   \n",
       "52           28   2011-06-28           6.1        3299        Michael Bay   \n",
       "329         123   2003-12-01           8.1        8064      Peter Jackson   \n",
       "29           93   2012-10-25           6.9        7604         Sam Mendes   \n",
       "36          116   2014-06-25           5.8        3095        Michael Bay   \n",
       "3           112   2012-07-16           7.6        9106  Christopher Nolan   \n",
       "42           59   2010-06-16           7.6        4597        Lee Unkrich   \n",
       "12          145   2006-06-20           7.0        5246     Gore Verbinski   \n",
       "17          135   2011-05-14           6.4        4948       Rob Marshall   \n",
       "32           78   2010-03-03           6.4        4645         Tim Burton   \n",
       "98          108   2012-11-26           7.0        8297      Peter Jackson   \n",
       "\n",
       "        earnings  efficiency  \n",
       "0    2550.965087   11.763566  \n",
       "25   1645.034188    9.225171  \n",
       "16   1299.557910    6.907081  \n",
       "28   1363.528810   10.090192  \n",
       "44   1316.249360    7.927628  \n",
       "7    1125.403694    5.019299  \n",
       "124  1124.219009    8.494793  \n",
       "31   1015.439994    6.077200  \n",
       "546  1082.730962   15.631499  \n",
       "26    903.304495    4.613218  \n",
       "52    928.746996    5.762805  \n",
       "329  1024.888979   11.903074  \n",
       "29    908.561013    5.542805  \n",
       "36    881.405097    5.197167  \n",
       "3     834.939099    4.339756  \n",
       "42    866.969703    5.334849  \n",
       "12    865.659812    5.328299  \n",
       "17    665.713802    2.751878  \n",
       "32    825.491110    5.127456  \n",
       "98    771.103568    4.084414  "
      ]
     },
     "execution_count": 24,
     "metadata": {},
     "output_type": "execute_result"
    }
   ],
   "source": [
    "cl_sorted.head(20)"
   ]
  },
  {
   "cell_type": "code",
   "execution_count": 27,
   "metadata": {},
   "outputs": [
    {
     "data": {
      "text/html": [
       "<div>\n",
       "<style scoped>\n",
       "    .dataframe tbody tr th:only-of-type {\n",
       "        vertical-align: middle;\n",
       "    }\n",
       "\n",
       "    .dataframe tbody tr th {\n",
       "        vertical-align: top;\n",
       "    }\n",
       "\n",
       "    .dataframe thead th {\n",
       "        text-align: right;\n",
       "    }\n",
       "</style>\n",
       "<table border=\"1\" class=\"dataframe\">\n",
       "  <thead>\n",
       "    <tr style=\"text-align: right;\">\n",
       "      <th></th>\n",
       "      <th>revenue</th>\n",
       "      <th>original_title</th>\n",
       "      <th>budget</th>\n",
       "      <th>popularity</th>\n",
       "      <th>release_date</th>\n",
       "      <th>vote_average</th>\n",
       "      <th>vote_count</th>\n",
       "      <th>name</th>\n",
       "      <th>earnings</th>\n",
       "      <th>efficiency</th>\n",
       "    </tr>\n",
       "  </thead>\n",
       "  <tbody>\n",
       "    <tr>\n",
       "      <th>5</th>\n",
       "      <td>890871626</td>\n",
       "      <td>Spider-Man 3</td>\n",
       "      <td>258000000</td>\n",
       "      <td>115</td>\n",
       "      <td>2007-05-01</td>\n",
       "      <td>5.9</td>\n",
       "      <td>3576</td>\n",
       "      <td>Sam Raimi</td>\n",
       "      <td>632.871626</td>\n",
       "      <td>3.452991</td>\n",
       "    </tr>\n",
       "    <tr>\n",
       "      <th>159</th>\n",
       "      <td>821708551</td>\n",
       "      <td>Spider-Man</td>\n",
       "      <td>139000000</td>\n",
       "      <td>82</td>\n",
       "      <td>2002-05-01</td>\n",
       "      <td>6.8</td>\n",
       "      <td>5265</td>\n",
       "      <td>Sam Raimi</td>\n",
       "      <td>682.708551</td>\n",
       "      <td>5.911572</td>\n",
       "    </tr>\n",
       "    <tr>\n",
       "      <th>30</th>\n",
       "      <td>783766341</td>\n",
       "      <td>Spider-Man 2</td>\n",
       "      <td>200000000</td>\n",
       "      <td>35</td>\n",
       "      <td>2004-06-25</td>\n",
       "      <td>6.7</td>\n",
       "      <td>4321</td>\n",
       "      <td>Sam Raimi</td>\n",
       "      <td>583.766341</td>\n",
       "      <td>3.918832</td>\n",
       "    </tr>\n",
       "    <tr>\n",
       "      <th>37</th>\n",
       "      <td>491868548</td>\n",
       "      <td>Oz: The Great and Powerful</td>\n",
       "      <td>200000000</td>\n",
       "      <td>46</td>\n",
       "      <td>2013-03-07</td>\n",
       "      <td>5.7</td>\n",
       "      <td>3530</td>\n",
       "      <td>Sam Raimi</td>\n",
       "      <td>291.868548</td>\n",
       "      <td>2.459343</td>\n",
       "    </tr>\n",
       "  </tbody>\n",
       "</table>\n",
       "</div>"
      ],
      "text/plain": [
       "       revenue              original_title     budget  popularity  \\\n",
       "5    890871626                Spider-Man 3  258000000         115   \n",
       "159  821708551                  Spider-Man  139000000          82   \n",
       "30   783766341                Spider-Man 2  200000000          35   \n",
       "37   491868548  Oz: The Great and Powerful  200000000          46   \n",
       "\n",
       "    release_date  vote_average  vote_count       name    earnings  efficiency  \n",
       "5     2007-05-01           5.9        3576  Sam Raimi  632.871626    3.452991  \n",
       "159   2002-05-01           6.8        5265  Sam Raimi  682.708551    5.911572  \n",
       "30    2004-06-25           6.7        4321  Sam Raimi  583.766341    3.918832  \n",
       "37    2013-03-07           5.7        3530  Sam Raimi  291.868548    2.459343  "
      ]
     },
     "execution_count": 27,
     "metadata": {},
     "output_type": "execute_result"
    }
   ],
   "source": [
    "cl_sorted[cl_sorted['name'] == 'Sam Raimi']"
   ]
  },
  {
   "cell_type": "markdown",
   "metadata": {},
   "source": [
    "conclude"
   ]
  },
  {
   "cell_type": "markdown",
   "metadata": {},
   "source": [
    "Clean and upload"
   ]
  },
  {
   "cell_type": "code",
   "execution_count": null,
   "metadata": {},
   "outputs": [],
   "source": []
  },
  {
   "cell_type": "markdown",
   "metadata": {},
   "source": [
    "## Data Modeling\n",
    "Describe and justify the process for analyzing or modeling the data.\n",
    "\n",
    "***\n",
    "Questions to consider:\n",
    "* How did you analyze or model the data?\n",
    "* How did you iterate on your initial approach to make it better?\n",
    "* Why are these choices appropriate given the data and the business problem?\n",
    "***"
   ]
  },
  {
   "cell_type": "code",
   "execution_count": null,
   "metadata": {},
   "outputs": [],
   "source": [
    "# Here you run your code to model the data\n"
   ]
  },
  {
   "cell_type": "markdown",
   "metadata": {},
   "source": [
    "## Evaluation\n",
    "Evaluate how well your work solves the stated business problem.\n",
    "\n",
    "***\n",
    "Questions to consider:\n",
    "* How do you interpret the results?\n",
    "* How well does your model fit your data? How much better is this than your baseline model?\n",
    "* How confident are you that your results would generalize beyond the data you have?\n",
    "* How confident are you that this model would benefit the business if put into use?\n",
    "***"
   ]
  },
  {
   "cell_type": "markdown",
   "metadata": {},
   "source": [
    "## Conclusions\n",
    "Provide your conclusions about the work you've done, including any limitations or next steps.\n",
    "\n",
    "***\n",
    "Questions to consider:\n",
    "* What would you recommend the business do as a result of this work?\n",
    "* What are some reasons why your analysis might not fully solve the business problem?\n",
    "* What else could you do in the future to improve this project?\n",
    "***"
   ]
  }
 ],
 "metadata": {
  "kernelspec": {
   "display_name": "Python 3",
   "language": "python",
   "name": "python3"
  },
  "language_info": {
   "codemirror_mode": {
    "name": "ipython",
    "version": 3
   },
   "file_extension": ".py",
   "mimetype": "text/x-python",
   "name": "python",
   "nbconvert_exporter": "python",
   "pygments_lexer": "ipython3",
   "version": "3.8.5"
  }
 },
 "nbformat": 4,
 "nbformat_minor": 4
}
