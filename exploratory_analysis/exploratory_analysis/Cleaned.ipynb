{
 "cells": [
  {
   "cell_type": "markdown",
   "metadata": {},
   "source": [
    "![intro](images/director_shot.jpeg)"
   ]
  },
  {
   "cell_type": "markdown",
   "metadata": {},
   "source": [
    "# Movie Analysis\n",
    "**Authors:** Ricardo Chin\n",
    "***"
   ]
  },
  {
   "cell_type": "markdown",
   "metadata": {},
   "source": [
    "## Overview\n",
    "\n",
    "This project uses a [IMDB](https://www.imdb.com/) data set that was obtained from [Kaggle](https://www.kaggle.com/datasets), to execute a quick Exploratory analysis of the data in order to make informed suggestions about the movie industry environment. The project goal is to use basic querying and python coding to extract, transform, and display data."
   ]
  },
  {
   "cell_type": "markdown",
   "metadata": {},
   "source": [
    "### Business Promblem\n",
    "\n",
    "CompanyXYZ has decided that they want to be part of the movie industry and create box office hits! However, they have little to no experience in the industry. The stakeholders are seeking insight and suggestions to help navigate their endeavor in order to improve confidence in making effective investments. "
   ]
  },
  {
   "cell_type": "markdown",
   "metadata": {},
   "source": [
    "## Data Understanding\n",
    "\n",
    "The data is a zipped IMDB sqlite data set downloaded from Kaggle.  It consists of three tables, for the purposes of this project we will focus on two tables to obtain basic information on top performing films and analyze what attributes have contributed to the titles' success."
   ]
  },
  {
   "cell_type": "code",
   "execution_count": 216,
   "metadata": {},
   "outputs": [],
   "source": [
    "# Import standard packages\n",
    "import pandas as pd\n",
    "import numpy as np\n",
    "import matplotlib.pyplot as plt\n",
    "import seaborn as sns\n",
    "import sqlite3\n",
    "from pandasql import sqldf\n",
    "from datetime import datetime\n",
    "\n",
    "# Tells python to immediately draw plots\n",
    "%matplotlib inline\n",
    "# Allows pandas to run sql queries on dataframes\n",
    "pysql = lambda q: sqldf(q, globals())"
   ]
  },
  {
   "cell_type": "code",
   "execution_count": 217,
   "metadata": {},
   "outputs": [
    {
     "data": {
      "text/plain": [
       "[('movies',), ('sqlite_sequence',), ('directors',)]"
      ]
     },
     "execution_count": 217,
     "metadata": {},
     "output_type": "execute_result"
    }
   ],
   "source": [
    "# Connecting to database\n",
    "conn = sqlite3.connect('zippedData/movies.sqlite')\n",
    "# building sql cursor\n",
    "cur = conn.cursor()\n",
    "# Checking for existing tables\n",
    "table_names = cur.execute(\"\"\"SELECT name FROM sqlite_master WHERE type = 'table';\"\"\").fetchall()\n",
    "table_names"
   ]
  },
  {
   "cell_type": "code",
   "execution_count": 218,
   "metadata": {},
   "outputs": [
    {
     "name": "stdout",
     "output_type": "stream",
     "text": [
      "<class 'pandas.core.frame.DataFrame'>\n",
      "RangeIndex: 4773 entries, 0 to 4772\n",
      "Data columns (total 13 columns):\n",
      " #   Column          Non-Null Count  Dtype  \n",
      "---  ------          --------------  -----  \n",
      " 0   id              4773 non-null   int64  \n",
      " 1   original_title  4773 non-null   object \n",
      " 2   budget          4773 non-null   int64  \n",
      " 3   popularity      4773 non-null   int64  \n",
      " 4   release_date    4773 non-null   object \n",
      " 5   revenue         4773 non-null   int64  \n",
      " 6   title           4773 non-null   object \n",
      " 7   vote_average    4773 non-null   float64\n",
      " 8   vote_count      4773 non-null   int64  \n",
      " 9   overview        4770 non-null   object \n",
      " 10  tagline         3951 non-null   object \n",
      " 11  uid             4773 non-null   int64  \n",
      " 12  director_id     4773 non-null   int64  \n",
      "dtypes: float64(1), int64(7), object(5)\n",
      "memory usage: 484.9+ KB\n",
      "<class 'pandas.core.frame.DataFrame'>\n",
      "RangeIndex: 2349 entries, 0 to 2348\n",
      "Data columns (total 5 columns):\n",
      " #   Column      Non-Null Count  Dtype \n",
      "---  ------      --------------  ----- \n",
      " 0   name        2349 non-null   object\n",
      " 1   id          2349 non-null   int64 \n",
      " 2   gender      2349 non-null   int64 \n",
      " 3   uid         2349 non-null   int64 \n",
      " 4   department  2349 non-null   object\n",
      "dtypes: int64(3), object(2)\n",
      "memory usage: 91.9+ KB\n"
     ]
    }
   ],
   "source": [
    "# Querying movies table\n",
    "q = \"\"\"\n",
    "SELECT * \n",
    "FROM movies\n",
    "\"\"\"\n",
    "data = cur.execute(q).fetchall()\n",
    "columns = [x[0] for x in cur.description]\n",
    "movies_df = pd.DataFrame(data=data, columns=columns)\n",
    "movies_df.info()\n",
    "\n",
    "# Querying directors table\n",
    "q = \"\"\"\n",
    "SELECT * \n",
    "FROM directors\n",
    "\"\"\"\n",
    "data = cur.execute(q).fetchall()\n",
    "columns = [x[0] for x in cur.description]\n",
    "directors_df = pd.DataFrame(data=data, columns=columns)\n",
    "directors_df.info()"
   ]
  },
  {
   "cell_type": "markdown",
   "metadata": {},
   "source": [
    "## Data Modeling\n",
    "\n",
    "This project focuses on fiscal success to appeal to the stakeholders. The target variables will be revenues and earnings, our model will contain relevant features from both tables to analyze. Topics to analyze will be: revenue, original title, budget, popularity, release date,  vote average, vote count, director name, and director gender.  These features will help to translate what contributes to the success of these titles."
   ]
  },
  {
   "cell_type": "code",
   "execution_count": 219,
   "metadata": {},
   "outputs": [
    {
     "name": "stdout",
     "output_type": "stream",
     "text": [
      "<class 'pandas.core.frame.DataFrame'>\n",
      "RangeIndex: 4773 entries, 0 to 4772\n",
      "Data columns (total 10 columns):\n",
      " #   Column          Non-Null Count  Dtype  \n",
      "---  ------          --------------  -----  \n",
      " 0   revenue         4773 non-null   int64  \n",
      " 1   original_title  4773 non-null   object \n",
      " 2   budget          4773 non-null   int64  \n",
      " 3   popularity      4773 non-null   int64  \n",
      " 4   release_date    4773 non-null   object \n",
      " 5   vote_average    4773 non-null   float64\n",
      " 6   vote_count      4773 non-null   int64  \n",
      " 7   name            4773 non-null   object \n",
      " 8   gender          4773 non-null   int64  \n",
      " 9   id              4773 non-null   int64  \n",
      "dtypes: float64(1), int64(6), object(3)\n",
      "memory usage: 373.0+ KB\n"
     ]
    }
   ],
   "source": [
    "# We will query using a common table expression to join releative attributes from the directors table to the movies table while\n",
    "# dropping unneccessary columns from the movies table\n",
    "\n",
    "q = \"\"\"\n",
    "WITH directors_names AS (\n",
    "SELECT name, id, gender\n",
    "FROM directors_df)\n",
    "\n",
    "SELECT movies_df.revenue, movies_df.original_title, movies_df.budget, movies_df.popularity, movies_df.release_date, movies_df.vote_average,\n",
    "movies_df.vote_count, directors_names.name, directors_names.gender, directors_names.id\n",
    "FROM movies_df\n",
    "LEFT JOIN directors_names\n",
    "ON movies_df.director_id = directors_names.id;\n",
    "\"\"\"\n",
    "df = pysql(q)\n",
    "df.info()"
   ]
  },
  {
   "cell_type": "code",
   "execution_count": 220,
   "metadata": {},
   "outputs": [
    {
     "data": {
      "text/plain": [
       "count                             4773\n",
       "mean     2002-12-14 02:57:23.871778944\n",
       "min                1916-09-04 00:00:00\n",
       "25%                1999-06-18 00:00:00\n",
       "50%                2005-09-23 00:00:00\n",
       "75%                2011-02-11 00:00:00\n",
       "max                2017-02-03 00:00:00\n",
       "Name: release_date, dtype: object"
      ]
     },
     "execution_count": 220,
     "metadata": {},
     "output_type": "execute_result"
    }
   ],
   "source": [
    "df['release_date'] = pd.to_datetime(df['release_date'])\n",
    "df.release_date.describe(datetime_is_numeric=True)"
   ]
  },
  {
   "cell_type": "markdown",
   "metadata": {},
   "source": [
    "From our describe object we can see that the range of titles that are in this data set span from 1916-2017"
   ]
  },
  {
   "cell_type": "code",
   "execution_count": 221,
   "metadata": {},
   "outputs": [
    {
     "name": "stdout",
     "output_type": "stream",
     "text": [
      "Titles that reported 0 dollars for budget: revenue           1014\n",
      "original_title    1014\n",
      "budget            1014\n",
      "popularity        1014\n",
      "release_date      1014\n",
      "vote_average      1014\n",
      "vote_count        1014\n",
      "name              1014\n",
      "gender            1014\n",
      "id                1014\n",
      "dtype: int64\n",
      "Titles that reported less than a million for budget: revenue           1199\n",
      "original_title    1199\n",
      "budget            1199\n",
      "popularity        1199\n",
      "release_date      1199\n",
      "vote_average      1199\n",
      "vote_count        1199\n",
      "name              1199\n",
      "gender            1199\n",
      "id                1199\n",
      "dtype: int64\n"
     ]
    }
   ],
   "source": [
    "zero_dollars_budgeted = df[df['budget'] == 0].count(axis='rows')\n",
    "less_than_a_mill = df[df['budget'] < 1000000].count()\n",
    "print(f'Titles that reported 0 dollars for budget: {zero_dollars_budgeted}')\n",
    "print(f'Titles that reported less than a million for budget: {less_than_a_mill}')"
   ]
  },
  {
   "cell_type": "markdown",
   "metadata": {},
   "source": [
    "#### We also can see that their are titles that have reprted zero dollars for their budget. For the purpose of our company we will assume its interest is to create titles over a million in budgeting."
   ]
  },
  {
   "cell_type": "code",
   "execution_count": 222,
   "metadata": {},
   "outputs": [],
   "source": [
    "## Creates a new column called earnings by subtracting the budget column from revenue\n",
    "df['earnings'] = df.apply(lambda row: row.revenue - row.budget, axis=1)"
   ]
  },
  {
   "cell_type": "code",
   "execution_count": 223,
   "metadata": {},
   "outputs": [
    {
     "data": {
      "text/plain": [
       "(3574, 11)"
      ]
     },
     "execution_count": 223,
     "metadata": {},
     "output_type": "execute_result"
    }
   ],
   "source": [
    "# Ridding dataframe of titles that reported less than a million in budget\n",
    "df_cln_budgets = df[df['budget'] >= 1000000]\n",
    "df_cln_budgets.shape"
   ]
  },
  {
   "cell_type": "code",
   "execution_count": 224,
   "metadata": {},
   "outputs": [
    {
     "name": "stdout",
     "output_type": "stream",
     "text": [
      "<class 'pandas.core.frame.DataFrame'>\n",
      "Int64Index: 3574 entries, 0 to 4728\n",
      "Data columns (total 11 columns):\n",
      " #   Column          Non-Null Count  Dtype         \n",
      "---  ------          --------------  -----         \n",
      " 0   revenue         3574 non-null   int64         \n",
      " 1   original_title  3574 non-null   object        \n",
      " 2   budget          3574 non-null   int64         \n",
      " 3   popularity      3574 non-null   int64         \n",
      " 4   release_date    3574 non-null   datetime64[ns]\n",
      " 5   vote_average    3574 non-null   float64       \n",
      " 6   vote_count      3574 non-null   int64         \n",
      " 7   name            3574 non-null   object        \n",
      " 8   gender          3574 non-null   int64         \n",
      " 9   id              3574 non-null   int64         \n",
      " 10  earnings        3574 non-null   int64         \n",
      "dtypes: datetime64[ns](1), float64(1), int64(7), object(2)\n",
      "memory usage: 335.1+ KB\n"
     ]
    }
   ],
   "source": [
    "df_cln_budgets.info()"
   ]
  },
  {
   "cell_type": "code",
   "execution_count": 225,
   "metadata": {},
   "outputs": [
    {
     "data": {
      "image/png": "[encoded data removed]",
      "text/plain": [
       "<Figure size 720x720 with 4 Axes>"
      ]
     },
     "metadata": {
      "needs_background": "light"
     },
     "output_type": "display_data"
    }
   ],
   "source": [
    "# Creates a figure with two rows and two columns\n",
    "fig, ((ax1, ax2), (ax3, ax4)) = plt.subplots(figsize=(10,10), nrows=2, ncols=2)\n",
    "\n",
    "# Creates a density histogram for title budgets\n",
    "ax1.set_xlim(left=1, right=300)\n",
    "ax1.set(title='Budget_in_millions')\n",
    "sns.histplot(x=(df_cln_budgets['budget']/1000000), ax=ax1)\n",
    "\n",
    "# Creates a density histogram for title revenues\n",
    "ax2.set_xlim(left=0.01, right=2.8)\n",
    "ax2.set_ylim(top=275)\n",
    "ax2.set(title='Revenue_in_billions')\n",
    "sns.histplot(x=(df_cln_budgets['revenue']/1000000000), ax=ax2)\n",
    "\n",
    "# Creates a density histogram for title earnings\n",
    "ax3.set_xlim(0, 1000)\n",
    "ax3.set(title='Earnings_in_millions')\n",
    "sns.histplot(x=df_cln_budgets['earnings']/1000000, ax=ax3)\n",
    "\n",
    "# Creates a scatterplot of title data points of budget vs revenue\n",
    "# includes hue of earnings\n",
    "m, b = np.polyfit(df_cln_budgets['budget'], df_cln_budgets['revenue'], 1)\n",
    "ax4 = plt.plot(df_cln_budgets['budget'], m*df_cln_budgets['budget'] + b)\n",
    "sns.scatterplot(x='budget', y='revenue', hue='earnings', data=df_cln_budgets, palette='flare').set(title='Revenue_vs_Budget')\n",
    "plt.show()\n"
   ]
  },
  {
   "cell_type": "code",
   "execution_count": 226,
   "metadata": {},
   "outputs": [
    {
     "name": "stdout",
     "output_type": "stream",
     "text": [
      "independent var budgets to revenue correlation 0.7053678284717816\n",
      "independent var budgets to earnings correlation 0.5510501921191312\n"
     ]
    }
   ],
   "source": [
    "budgets_corr = df_cln_budgets['revenue'].corr(df_cln_budgets['budget'])\n",
    "earnings_corr = df_cln_budgets['earnings'].corr(df_cln_budgets['budget'])\n",
    "print(f'independent var budgets to revenue correlation {budgets_corr}')\n",
    "print(f'independent var budgets to earnings correlation {earnings_corr}')\n",
    "      "
   ]
  },
  {
   "cell_type": "code",
   "execution_count": 227,
   "metadata": {},
   "outputs": [
    {
     "data": {
      "text/plain": [
       "count         3574.000000\n",
       "mean      39011181.682429\n",
       "std       42900126.062369\n",
       "min        1000000.000000\n",
       "25%       10000000.000000\n",
       "50%       25000000.000000\n",
       "75%       50000000.000000\n",
       "max      380000000.000000\n",
       "Name: budget, dtype: object"
      ]
     },
     "execution_count": 227,
     "metadata": {},
     "output_type": "execute_result"
    }
   ],
   "source": [
    "df_cln_budgets['budget'].describe().apply(lambda x: format(x, 'f'))"
   ]
  },
  {
   "cell_type": "markdown",
   "metadata": {},
   "source": [
    "### Visualization Conclusion of a Fiscal Analysis\n",
    "\n",
    "The graphs show film performance for those titles that spent at least a million in budgeting. \n",
    "There are a strong cluster of films that budgeted less than 50 million, however, there are also plenty of films that showed low to moderate revenue and earnings.  \n",
    "\n",
    "Titles that budget in the Hundred million have stronger revenue streams and deeper shades of earning.\n",
    "If company XYZ wants to be in the competitive sector of this industry, it will be suggested that their target budget is within that range.\n",
    "\n"
   ]
  },
  {
   "cell_type": "code",
   "execution_count": 228,
   "metadata": {},
   "outputs": [
    {
     "name": "stdout",
     "output_type": "stream",
     "text": [
      "<class 'pandas.core.frame.DataFrame'>\n",
      "Int64Index: 3574 entries, 0 to 4728\n",
      "Data columns (total 11 columns):\n",
      " #   Column          Non-Null Count  Dtype         \n",
      "---  ------          --------------  -----         \n",
      " 0   revenue         3574 non-null   int64         \n",
      " 1   original_title  3574 non-null   object        \n",
      " 2   budget          3574 non-null   int64         \n",
      " 3   popularity      3574 non-null   int64         \n",
      " 4   release_date    3574 non-null   datetime64[ns]\n",
      " 5   vote_average    3574 non-null   float64       \n",
      " 6   vote_count      3574 non-null   int64         \n",
      " 7   name            3574 non-null   object        \n",
      " 8   gender          3574 non-null   int64         \n",
      " 9   id              3574 non-null   int64         \n",
      " 10  earnings        3574 non-null   int64         \n",
      "dtypes: datetime64[ns](1), float64(1), int64(7), object(2)\n",
      "memory usage: 335.1+ KB\n"
     ]
    }
   ],
   "source": [
    "df_cln_budgets.info()"
   ]
  },
  {
   "cell_type": "code",
   "execution_count": 229,
   "metadata": {},
   "outputs": [
    {
     "data": {
      "text/plain": [
       "<AxesSubplot:>"
      ]
     },
     "execution_count": 229,
     "metadata": {},
     "output_type": "execute_result"
    },
    {
     "data": {
      "image/png": "[encoded data removed]",
      "text/plain": [
       "<Figure size 576x360 with 2 Axes>"
      ]
     },
     "metadata": {
      "needs_background": "light"
     },
     "output_type": "display_data"
    }
   ],
   "source": [
    "plt.figure(figsize=(8,5))\n",
    "### Creates a Correlation graph that is color coded to highlight strong patterns against features of the dataset\n",
    "sns.heatmap(df_cln_budgets.corr(), annot=True, cmap='RdBu_r', vmin=-1, vmax=1)"
   ]
  },
  {
   "cell_type": "markdown",
   "metadata": {},
   "source": [
    "### Investigating directors\n"
   ]
  },
  {
   "cell_type": "code",
   "execution_count": 230,
   "metadata": {
    "scrolled": true
   },
   "outputs": [
    {
     "data": {
      "text/plain": [
       "count    4773.000000\n",
       "mean       21.136602\n",
       "std        31.864132\n",
       "min         0.000000\n",
       "25%         4.000000\n",
       "50%        13.000000\n",
       "75%        28.000000\n",
       "max       875.000000\n",
       "Name: popularity, dtype: float64"
      ]
     },
     "execution_count": 230,
     "metadata": {},
     "output_type": "execute_result"
    }
   ],
   "source": [
    "df['popularity'].describe()"
   ]
  },
  {
   "cell_type": "code",
   "execution_count": 231,
   "metadata": {
    "scrolled": true
   },
   "outputs": [
    {
     "data": {
      "text/html": [
       "<div>\n",
       "<style scoped>\n",
       "    .dataframe tbody tr th:only-of-type {\n",
       "        vertical-align: middle;\n",
       "    }\n",
       "\n",
       "    .dataframe tbody tr th {\n",
       "        vertical-align: top;\n",
       "    }\n",
       "\n",
       "    .dataframe thead th {\n",
       "        text-align: right;\n",
       "    }\n",
       "</style>\n",
       "<table border=\"1\" class=\"dataframe\">\n",
       "  <thead>\n",
       "    <tr style=\"text-align: right;\">\n",
       "      <th></th>\n",
       "      <th>revenue</th>\n",
       "      <th>original_title</th>\n",
       "      <th>budget</th>\n",
       "      <th>popularity</th>\n",
       "      <th>release_date</th>\n",
       "      <th>vote_average</th>\n",
       "      <th>vote_count</th>\n",
       "      <th>name</th>\n",
       "      <th>gender</th>\n",
       "      <th>id</th>\n",
       "      <th>earnings</th>\n",
       "    </tr>\n",
       "  </thead>\n",
       "  <tbody>\n",
       "    <tr>\n",
       "      <th>546</th>\n",
       "      <td>1156730962</td>\n",
       "      <td>Minions</td>\n",
       "      <td>74000000</td>\n",
       "      <td>875</td>\n",
       "      <td>2015-06-17</td>\n",
       "      <td>6.4</td>\n",
       "      <td>4571</td>\n",
       "      <td>Kyle Balda</td>\n",
       "      <td>0</td>\n",
       "      <td>5045</td>\n",
       "      <td>1082730962</td>\n",
       "    </tr>\n",
       "    <tr>\n",
       "      <th>95</th>\n",
       "      <td>675120017</td>\n",
       "      <td>Interstellar</td>\n",
       "      <td>165000000</td>\n",
       "      <td>724</td>\n",
       "      <td>2014-11-05</td>\n",
       "      <td>8.1</td>\n",
       "      <td>10867</td>\n",
       "      <td>Christopher Nolan</td>\n",
       "      <td>2</td>\n",
       "      <td>4765</td>\n",
       "      <td>510120017</td>\n",
       "    </tr>\n",
       "    <tr>\n",
       "      <th>788</th>\n",
       "      <td>783112979</td>\n",
       "      <td>Deadpool</td>\n",
       "      <td>58000000</td>\n",
       "      <td>514</td>\n",
       "      <td>2016-02-09</td>\n",
       "      <td>7.4</td>\n",
       "      <td>10995</td>\n",
       "      <td>Tim Miller</td>\n",
       "      <td>2</td>\n",
       "      <td>5151</td>\n",
       "      <td>725112979</td>\n",
       "    </tr>\n",
       "    <tr>\n",
       "      <th>94</th>\n",
       "      <td>773328629</td>\n",
       "      <td>Guardians of the Galaxy</td>\n",
       "      <td>170000000</td>\n",
       "      <td>481</td>\n",
       "      <td>2014-07-30</td>\n",
       "      <td>7.9</td>\n",
       "      <td>9742</td>\n",
       "      <td>James Gunn</td>\n",
       "      <td>2</td>\n",
       "      <td>4827</td>\n",
       "      <td>603328629</td>\n",
       "    </tr>\n",
       "    <tr>\n",
       "      <th>127</th>\n",
       "      <td>378858340</td>\n",
       "      <td>Mad Max: Fury Road</td>\n",
       "      <td>150000000</td>\n",
       "      <td>434</td>\n",
       "      <td>2015-05-13</td>\n",
       "      <td>7.2</td>\n",
       "      <td>9427</td>\n",
       "      <td>George Miller</td>\n",
       "      <td>2</td>\n",
       "      <td>4845</td>\n",
       "      <td>228858340</td>\n",
       "    </tr>\n",
       "    <tr>\n",
       "      <th>28</th>\n",
       "      <td>1513528810</td>\n",
       "      <td>Jurassic World</td>\n",
       "      <td>150000000</td>\n",
       "      <td>418</td>\n",
       "      <td>2015-06-09</td>\n",
       "      <td>6.5</td>\n",
       "      <td>8662</td>\n",
       "      <td>Colin Trevorrow</td>\n",
       "      <td>2</td>\n",
       "      <td>4783</td>\n",
       "      <td>1363528810</td>\n",
       "    </tr>\n",
       "    <tr>\n",
       "      <th>199</th>\n",
       "      <td>655011224</td>\n",
       "      <td>Pirates of the Caribbean: The Curse of the Bla...</td>\n",
       "      <td>140000000</td>\n",
       "      <td>271</td>\n",
       "      <td>2003-07-09</td>\n",
       "      <td>7.5</td>\n",
       "      <td>6985</td>\n",
       "      <td>Gore Verbinski</td>\n",
       "      <td>2</td>\n",
       "      <td>4763</td>\n",
       "      <td>515011224</td>\n",
       "    </tr>\n",
       "    <tr>\n",
       "      <th>82</th>\n",
       "      <td>710644566</td>\n",
       "      <td>Dawn of the Planet of the Apes</td>\n",
       "      <td>170000000</td>\n",
       "      <td>243</td>\n",
       "      <td>2014-06-26</td>\n",
       "      <td>7.3</td>\n",
       "      <td>4410</td>\n",
       "      <td>Matt Reeves</td>\n",
       "      <td>2</td>\n",
       "      <td>4818</td>\n",
       "      <td>540644566</td>\n",
       "    </tr>\n",
       "    <tr>\n",
       "      <th>200</th>\n",
       "      <td>752100229</td>\n",
       "      <td>The Hunger Games: Mockingjay - Part 1</td>\n",
       "      <td>125000000</td>\n",
       "      <td>206</td>\n",
       "      <td>2014-11-18</td>\n",
       "      <td>6.6</td>\n",
       "      <td>5584</td>\n",
       "      <td>Francis Lawrence</td>\n",
       "      <td>2</td>\n",
       "      <td>4831</td>\n",
       "      <td>627100229</td>\n",
       "    </tr>\n",
       "    <tr>\n",
       "      <th>88</th>\n",
       "      <td>652105443</td>\n",
       "      <td>Big Hero 6</td>\n",
       "      <td>165000000</td>\n",
       "      <td>203</td>\n",
       "      <td>2014-10-24</td>\n",
       "      <td>7.8</td>\n",
       "      <td>6135</td>\n",
       "      <td>Chris Williams</td>\n",
       "      <td>2</td>\n",
       "      <td>4823</td>\n",
       "      <td>487105443</td>\n",
       "    </tr>\n",
       "    <tr>\n",
       "      <th>108</th>\n",
       "      <td>440603537</td>\n",
       "      <td>Terminator Genisys</td>\n",
       "      <td>155000000</td>\n",
       "      <td>202</td>\n",
       "      <td>2015-06-23</td>\n",
       "      <td>5.8</td>\n",
       "      <td>3631</td>\n",
       "      <td>Alan Taylor</td>\n",
       "      <td>2</td>\n",
       "      <td>4837</td>\n",
       "      <td>285603537</td>\n",
       "    </tr>\n",
       "    <tr>\n",
       "      <th>26</th>\n",
       "      <td>1153304495</td>\n",
       "      <td>Captain America: Civil War</td>\n",
       "      <td>250000000</td>\n",
       "      <td>198</td>\n",
       "      <td>2016-04-27</td>\n",
       "      <td>7.1</td>\n",
       "      <td>7241</td>\n",
       "      <td>Anthony Russo</td>\n",
       "      <td>2</td>\n",
       "      <td>4781</td>\n",
       "      <td>903304495</td>\n",
       "    </tr>\n",
       "    <tr>\n",
       "      <th>3862</th>\n",
       "      <td>13092000</td>\n",
       "      <td>Whiplash</td>\n",
       "      <td>3300000</td>\n",
       "      <td>192</td>\n",
       "      <td>2014-10-10</td>\n",
       "      <td>8.3</td>\n",
       "      <td>4254</td>\n",
       "      <td>Damien Chazelle</td>\n",
       "      <td>2</td>\n",
       "      <td>6521</td>\n",
       "      <td>9792000</td>\n",
       "    </tr>\n",
       "    <tr>\n",
       "      <th>65</th>\n",
       "      <td>1004558444</td>\n",
       "      <td>The Dark Knight</td>\n",
       "      <td>185000000</td>\n",
       "      <td>187</td>\n",
       "      <td>2008-07-16</td>\n",
       "      <td>8.2</td>\n",
       "      <td>12002</td>\n",
       "      <td>Christopher Nolan</td>\n",
       "      <td>2</td>\n",
       "      <td>4765</td>\n",
       "      <td>819558444</td>\n",
       "    </tr>\n",
       "    <tr>\n",
       "      <th>270</th>\n",
       "      <td>630161890</td>\n",
       "      <td>The Martian</td>\n",
       "      <td>108000000</td>\n",
       "      <td>167</td>\n",
       "      <td>2015-09-30</td>\n",
       "      <td>7.6</td>\n",
       "      <td>7268</td>\n",
       "      <td>Ridley Scott</td>\n",
       "      <td>2</td>\n",
       "      <td>4779</td>\n",
       "      <td>522161890</td>\n",
       "    </tr>\n",
       "    <tr>\n",
       "      <th>96</th>\n",
       "      <td>825532764</td>\n",
       "      <td>Inception</td>\n",
       "      <td>160000000</td>\n",
       "      <td>167</td>\n",
       "      <td>2010-07-14</td>\n",
       "      <td>8.1</td>\n",
       "      <td>13752</td>\n",
       "      <td>Christopher Nolan</td>\n",
       "      <td>2</td>\n",
       "      <td>4765</td>\n",
       "      <td>665532764</td>\n",
       "    </tr>\n",
       "    <tr>\n",
       "      <th>124</th>\n",
       "      <td>1274219009</td>\n",
       "      <td>Frozen</td>\n",
       "      <td>150000000</td>\n",
       "      <td>165</td>\n",
       "      <td>2013-11-27</td>\n",
       "      <td>7.3</td>\n",
       "      <td>5295</td>\n",
       "      <td>Chris Buck</td>\n",
       "      <td>0</td>\n",
       "      <td>4844</td>\n",
       "      <td>1124219009</td>\n",
       "    </tr>\n",
       "    <tr>\n",
       "      <th>9</th>\n",
       "      <td>873260194</td>\n",
       "      <td>Batman v Superman: Dawn of Justice</td>\n",
       "      <td>250000000</td>\n",
       "      <td>155</td>\n",
       "      <td>2016-03-23</td>\n",
       "      <td>5.7</td>\n",
       "      <td>7004</td>\n",
       "      <td>Zack Snyder</td>\n",
       "      <td>2</td>\n",
       "      <td>4771</td>\n",
       "      <td>623260194</td>\n",
       "    </tr>\n",
       "    <tr>\n",
       "      <th>0</th>\n",
       "      <td>2787965087</td>\n",
       "      <td>Avatar</td>\n",
       "      <td>237000000</td>\n",
       "      <td>150</td>\n",
       "      <td>2009-12-10</td>\n",
       "      <td>7.2</td>\n",
       "      <td>11800</td>\n",
       "      <td>James Cameron</td>\n",
       "      <td>2</td>\n",
       "      <td>4762</td>\n",
       "      <td>2550965087</td>\n",
       "    </tr>\n",
       "    <tr>\n",
       "      <th>662</th>\n",
       "      <td>100853753</td>\n",
       "      <td>Fight Club</td>\n",
       "      <td>63000000</td>\n",
       "      <td>146</td>\n",
       "      <td>1999-10-15</td>\n",
       "      <td>8.3</td>\n",
       "      <td>9413</td>\n",
       "      <td>David Fincher</td>\n",
       "      <td>2</td>\n",
       "      <td>4829</td>\n",
       "      <td>37853753</td>\n",
       "    </tr>\n",
       "  </tbody>\n",
       "</table>\n",
       "</div>"
      ],
      "text/plain": [
       "         revenue                                     original_title  \\\n",
       "546   1156730962                                            Minions   \n",
       "95     675120017                                       Interstellar   \n",
       "788    783112979                                           Deadpool   \n",
       "94     773328629                            Guardians of the Galaxy   \n",
       "127    378858340                                 Mad Max: Fury Road   \n",
       "28    1513528810                                     Jurassic World   \n",
       "199    655011224  Pirates of the Caribbean: The Curse of the Bla...   \n",
       "82     710644566                     Dawn of the Planet of the Apes   \n",
       "200    752100229              The Hunger Games: Mockingjay - Part 1   \n",
       "88     652105443                                         Big Hero 6   \n",
       "108    440603537                                 Terminator Genisys   \n",
       "26    1153304495                         Captain America: Civil War   \n",
       "3862    13092000                                           Whiplash   \n",
       "65    1004558444                                    The Dark Knight   \n",
       "270    630161890                                        The Martian   \n",
       "96     825532764                                          Inception   \n",
       "124   1274219009                                             Frozen   \n",
       "9      873260194                 Batman v Superman: Dawn of Justice   \n",
       "0     2787965087                                             Avatar   \n",
       "662    100853753                                         Fight Club   \n",
       "\n",
       "         budget  popularity release_date  vote_average  vote_count  \\\n",
       "546    74000000         875   2015-06-17           6.4        4571   \n",
       "95    165000000         724   2014-11-05           8.1       10867   \n",
       "788    58000000         514   2016-02-09           7.4       10995   \n",
       "94    170000000         481   2014-07-30           7.9        9742   \n",
       "127   150000000         434   2015-05-13           7.2        9427   \n",
       "28    150000000         418   2015-06-09           6.5        8662   \n",
       "199   140000000         271   2003-07-09           7.5        6985   \n",
       "82    170000000         243   2014-06-26           7.3        4410   \n",
       "200   125000000         206   2014-11-18           6.6        5584   \n",
       "88    165000000         203   2014-10-24           7.8        6135   \n",
       "108   155000000         202   2015-06-23           5.8        3631   \n",
       "26    250000000         198   2016-04-27           7.1        7241   \n",
       "3862    3300000         192   2014-10-10           8.3        4254   \n",
       "65    185000000         187   2008-07-16           8.2       12002   \n",
       "270   108000000         167   2015-09-30           7.6        7268   \n",
       "96    160000000         167   2010-07-14           8.1       13752   \n",
       "124   150000000         165   2013-11-27           7.3        5295   \n",
       "9     250000000         155   2016-03-23           5.7        7004   \n",
       "0     237000000         150   2009-12-10           7.2       11800   \n",
       "662    63000000         146   1999-10-15           8.3        9413   \n",
       "\n",
       "                   name  gender    id    earnings  \n",
       "546          Kyle Balda       0  5045  1082730962  \n",
       "95    Christopher Nolan       2  4765   510120017  \n",
       "788          Tim Miller       2  5151   725112979  \n",
       "94           James Gunn       2  4827   603328629  \n",
       "127       George Miller       2  4845   228858340  \n",
       "28      Colin Trevorrow       2  4783  1363528810  \n",
       "199      Gore Verbinski       2  4763   515011224  \n",
       "82          Matt Reeves       2  4818   540644566  \n",
       "200    Francis Lawrence       2  4831   627100229  \n",
       "88       Chris Williams       2  4823   487105443  \n",
       "108         Alan Taylor       2  4837   285603537  \n",
       "26        Anthony Russo       2  4781   903304495  \n",
       "3862    Damien Chazelle       2  6521     9792000  \n",
       "65    Christopher Nolan       2  4765   819558444  \n",
       "270        Ridley Scott       2  4779   522161890  \n",
       "96    Christopher Nolan       2  4765   665532764  \n",
       "124          Chris Buck       0  4844  1124219009  \n",
       "9           Zack Snyder       2  4771   623260194  \n",
       "0         James Cameron       2  4762  2550965087  \n",
       "662       David Fincher       2  4829    37853753  "
      ]
     },
     "execution_count": 231,
     "metadata": {},
     "output_type": "execute_result"
    }
   ],
   "source": [
    "df.sort_values(by='popularity', ascending=False).head(20)"
   ]
  },
  {
   "cell_type": "markdown",
   "metadata": {},
   "source": [
    "#### Popularity\n",
    "Most of our films have a popularity count of 28 or less.  However, we have quiet a few signigicant titles that have popularity counts in the hundreds. "
   ]
  },
  {
   "cell_type": "code",
   "execution_count": 232,
   "metadata": {},
   "outputs": [],
   "source": [
    "## Creates a list of the top 20 directors by film earnings\n",
    "most_earnings_directors = df_cln_budgets.groupby(['name'])['earnings'].sum().sort_values(ascending=False).head(20)\n",
    "## Creates a list of the top 20 directors by acumalated popularity\n",
    "most_popular_directors = df_cln_budgets.groupby(['name'])['popularity'].sum().sort_values(ascending=False).head(20)\n"
   ]
  },
  {
   "cell_type": "code",
   "execution_count": 233,
   "metadata": {},
   "outputs": [
    {
     "data": {
      "image/png": "[encoded data removed]",
      "text/plain": [
       "<Figure size 1296x576 with 2 Axes>"
      ]
     },
     "metadata": {
      "needs_background": "light"
     },
     "output_type": "display_data"
    }
   ],
   "source": [
    "## Creates figure with two axis\n",
    "fig, (ax1, ax2) = plt.subplots(ncols=2, nrows=1, figsize = (18, 8))\n",
    "ax1.set_xlabel('Accumalated Earnings in Billions')\n",
    "sns.barplot(x=most_earning_directors.values/1000000000, y=most_earning_directors.index, ax=ax1)\n",
    "ax2.set_xlabel('Accumalated Popularity Votes')\n",
    "sns.barplot(x=most_popular_directors.values, y=most_popular_directors.index, ax=ax2)\n",
    "fig.tight_layout()\n",
    "plt.show()"
   ]
  },
  {
   "cell_type": "code",
   "execution_count": 234,
   "metadata": {},
   "outputs": [
    {
     "data": {
      "text/html": [
       "<div>\n",
       "<style scoped>\n",
       "    .dataframe tbody tr th:only-of-type {\n",
       "        vertical-align: middle;\n",
       "    }\n",
       "\n",
       "    .dataframe tbody tr th {\n",
       "        vertical-align: top;\n",
       "    }\n",
       "\n",
       "    .dataframe thead th {\n",
       "        text-align: right;\n",
       "    }\n",
       "</style>\n",
       "<table border=\"1\" class=\"dataframe\">\n",
       "  <thead>\n",
       "    <tr style=\"text-align: right;\">\n",
       "      <th></th>\n",
       "      <th>earnings</th>\n",
       "      <th>popularity</th>\n",
       "    </tr>\n",
       "    <tr>\n",
       "      <th>name</th>\n",
       "      <th></th>\n",
       "      <th></th>\n",
       "    </tr>\n",
       "  </thead>\n",
       "  <tbody>\n",
       "    <tr>\n",
       "      <th>Steven Spielberg</th>\n",
       "      <td>7,479,893,164</td>\n",
       "      <td>1,296</td>\n",
       "    </tr>\n",
       "    <tr>\n",
       "      <th>Peter Jackson</th>\n",
       "      <td>5,205,642,820</td>\n",
       "      <td>787</td>\n",
       "    </tr>\n",
       "    <tr>\n",
       "      <th>James Cameron</th>\n",
       "      <td>5,136,669,439</td>\n",
       "      <td>554</td>\n",
       "    </tr>\n",
       "    <tr>\n",
       "      <th>Michael Bay</th>\n",
       "      <td>4,422,524,638</td>\n",
       "      <td>514</td>\n",
       "    </tr>\n",
       "    <tr>\n",
       "      <th>Christopher Nolan</th>\n",
       "      <td>3,222,483,234</td>\n",
       "      <td>1,480</td>\n",
       "    </tr>\n",
       "    <tr>\n",
       "      <th>Chris Columbus</th>\n",
       "      <td>3,098,631,503</td>\n",
       "      <td>603</td>\n",
       "    </tr>\n",
       "    <tr>\n",
       "      <th>Robert Zemeckis</th>\n",
       "      <td>2,600,622,002</td>\n",
       "      <td>658</td>\n",
       "    </tr>\n",
       "    <tr>\n",
       "      <th>Francis Lawrence</th>\n",
       "      <td>2,349,457,182</td>\n",
       "      <td>495</td>\n",
       "    </tr>\n",
       "    <tr>\n",
       "      <th>Tim Burton</th>\n",
       "      <td>2,340,418,241</td>\n",
       "      <td>652</td>\n",
       "    </tr>\n",
       "    <tr>\n",
       "      <th>Gore Verbinski</th>\n",
       "      <td>2,070,013,357</td>\n",
       "      <td>668</td>\n",
       "    </tr>\n",
       "    <tr>\n",
       "      <th>Ridley Scott</th>\n",
       "      <td>1,899,557,997</td>\n",
       "      <td>914</td>\n",
       "    </tr>\n",
       "  </tbody>\n",
       "</table>\n",
       "</div>"
      ],
      "text/plain": [
       "                        earnings popularity\n",
       "name                                       \n",
       "Steven Spielberg   7,479,893,164      1,296\n",
       "Peter Jackson      5,205,642,820        787\n",
       "James Cameron      5,136,669,439        554\n",
       "Michael Bay        4,422,524,638        514\n",
       "Christopher Nolan  3,222,483,234      1,480\n",
       "Chris Columbus     3,098,631,503        603\n",
       "Robert Zemeckis    2,600,622,002        658\n",
       "Francis Lawrence   2,349,457,182        495\n",
       "Tim Burton         2,340,418,241        652\n",
       "Gore Verbinski     2,070,013,357        668\n",
       "Ridley Scott       1,899,557,997        914"
      ]
     },
     "execution_count": 234,
     "metadata": {},
     "output_type": "execute_result"
    }
   ],
   "source": [
    "def format_int_with_commas(x):\n",
    "    \"\"\"\n",
    "    formats an integer with commas as thousand separators.\n",
    "    \"\"\"\n",
    "    return f\"{x:,}\"\n",
    "\n",
    "\n",
    "merged_top_directors = pd.merge(left=most_earning_directors, right=most_popular_directors, left_index=True, right_index=True)\n",
    "merged_top_directors.applymap(format_int_with_commas)"
   ]
  },
  {
   "cell_type": "markdown",
   "metadata": {},
   "source": [
    "### Directors Conclusion\n",
    "From our Correlation Heat Map we saw a low to moderate assocition with budgets and popularity. A closer look at directors does show some of the more popular directors have a the potential to earn billions for their studios.  The above top director list may be taken into consideration when Company XYZ decides to put together their first film."
   ]
  },
  {
   "cell_type": "markdown",
   "metadata": {},
   "source": [
    "## In Conclusion\n",
    "\n",
    "From our budget analysis we concluded that titles that budgeted over a hundred million had greater revenue streams and stronger earning power.\n",
    "We also concluded that choosing the right director can improve popularity and earnings for the film as well.\n",
    "\n",
    "CompanyXYZ can create a strong and popular title with a budget of a hundred and twenty million and hire a director such as Robert Zemeckis.\n",
    "\n",
    "#### Other things to consider\n",
    "CompanyXYZ should now investigate film genres and perhaps their runtimes. Also, they may to find out industry leaders. Which studios are finding great success and what they are doing well.\n"
   ]
  },
  {
   "cell_type": "code",
   "execution_count": null,
   "metadata": {},
   "outputs": [],
   "source": []
  }
 ],
 "metadata": {
  "kernelspec": {
   "display_name": "Python (learn-env)",
   "language": "python",
   "name": "learn-env"
  },
  "language_info": {
   "codemirror_mode": {
    "name": "ipython",
    "version": 3
   },
   "file_extension": ".py",
   "mimetype": "text/x-python",
   "name": "python",
   "nbconvert_exporter": "python",
   "pygments_lexer": "ipython3",
   "version": "3.8.5"
  }
 },
 "nbformat": 4,
 "nbformat_minor": 4
}
